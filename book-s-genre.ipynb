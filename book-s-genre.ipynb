{
 "cells": [
  {
   "cell_type": "markdown",
   "id": "7e7711c6",
   "metadata": {
    "papermill": {
     "duration": 0.00641,
     "end_time": "2025-07-16T18:25:37.226086",
     "exception": false,
     "start_time": "2025-07-16T18:25:37.219676",
     "status": "completed"
    },
    "tags": []
   },
   "source": [
    "# 📚 Discovering Book Micro-Genres with Unsupervised Learning\n",
    "\n",
    "The goal is to identify hidden micro-genres by clustering books based on the words in their descriptions. \n",
    "Using unsupervised learning and KMeans clustering, we group similar books without relying on labeled genres. \n",
    "Descriptions are transformed into numerical features using TF-IDF vectorization.\n"
   ]
  },
  {
   "cell_type": "markdown",
   "id": "f51a9179",
   "metadata": {
    "papermill": {
     "duration": 0.004631,
     "end_time": "2025-07-16T18:25:37.235668",
     "exception": false,
     "start_time": "2025-07-16T18:25:37.231037",
     "status": "completed"
    },
    "tags": []
   },
   "source": [
    "## 🔍 Step 1: Define the Problem\n",
    "\n",
    "Can we find clusters of similar books based on the presence of common words in their descriptions?\n",
    "\n",
    "This task is suitable for **unsupervised learning** because we don't have labeled genres.\n"
   ]
  },
  {
   "cell_type": "code",
   "execution_count": 1,
   "id": "91d8a4c4",
   "metadata": {
    "execution": {
     "iopub.execute_input": "2025-07-16T18:25:37.246212Z",
     "iopub.status.busy": "2025-07-16T18:25:37.245856Z",
     "iopub.status.idle": "2025-07-16T18:25:51.153049Z",
     "shell.execute_reply": "2025-07-16T18:25:51.151973Z"
    },
    "papermill": {
     "duration": 13.914677,
     "end_time": "2025-07-16T18:25:51.154996",
     "exception": false,
     "start_time": "2025-07-16T18:25:37.240319",
     "status": "completed"
    },
    "tags": []
   },
   "outputs": [
    {
     "name": "stdout",
     "output_type": "stream",
     "text": [
      "Collecting langdetect\r\n",
      "  Downloading langdetect-1.0.9.tar.gz (981 kB)\r\n",
      "\u001b[2K     \u001b[90m━━━━━━━━━━━━━━━━━━━━━━━━━━━━━━━━━━━━━━\u001b[0m \u001b[32m981.5/981.5 kB\u001b[0m \u001b[31m25.3 MB/s\u001b[0m eta \u001b[36m0:00:00\u001b[0m\r\n",
      "\u001b[?25h  Preparing metadata (setup.py) ... \u001b[?25l\u001b[?25hdone\r\n",
      "Requirement already satisfied: six in /usr/local/lib/python3.11/dist-packages (from langdetect) (1.17.0)\r\n",
      "Building wheels for collected packages: langdetect\r\n",
      "  Building wheel for langdetect (setup.py) ... \u001b[?25l\u001b[?25hdone\r\n",
      "  Created wheel for langdetect: filename=langdetect-1.0.9-py3-none-any.whl size=993223 sha256=1317894c66a936c4e07a1d621abdbe658435bd4f8e1162c0ddc338bd4563abbf\r\n",
      "  Stored in directory: /root/.cache/pip/wheels/0a/f2/b2/e5ca405801e05eb7c8ed5b3b4bcf1fcabcd6272c167640072e\r\n",
      "Successfully built langdetect\r\n",
      "Installing collected packages: langdetect\r\n",
      "Successfully installed langdetect-1.0.9\r\n"
     ]
    }
   ],
   "source": [
    "# Necessary libraries\n",
    "\n",
    "import numpy as np \n",
    "import pandas as pd \n",
    "import matplotlib.pyplot as plt \n",
    "import seaborn as sns\n",
    "import string\n",
    "import re\n",
    "\n",
    "import nltk\n",
    "from nltk.corpus import stopwords\n",
    "from nltk.stem import WordNetLemmatizer\n",
    "from nltk.tokenize import word_tokenize\n",
    "\n",
    "from sklearn.feature_extraction.text import TfidfVectorizer\n",
    "from sklearn.cluster import KMeans\n",
    "from sklearn.metrics import silhouette_score\n",
    "from sklearn.decomposition import PCA\n",
    "\n",
    "from datasets import load_dataset\n",
    "\n",
    "!pip install langdetect\n",
    "from langdetect import detect, LangDetectException"
   ]
  },
  {
   "cell_type": "markdown",
   "id": "6a364c9a",
   "metadata": {
    "papermill": {
     "duration": 0.005054,
     "end_time": "2025-07-16T18:25:51.165463",
     "exception": false,
     "start_time": "2025-07-16T18:25:51.160409",
     "status": "completed"
    },
    "tags": []
   },
   "source": [
    "## 📂 Step 2: Load and Explore the Data\n",
    "\n",
    "We use a book dataset with fields like title, author, and summary.\n",
    "Only the `title` and `summary` columns are used for clustering.\n",
    "\n",
    "Below is a sample of the data and basic info:\n"
   ]
  },
  {
   "cell_type": "code",
   "execution_count": 2,
   "id": "533edb9d",
   "metadata": {
    "execution": {
     "iopub.execute_input": "2025-07-16T18:25:51.179253Z",
     "iopub.status.busy": "2025-07-16T18:25:51.177606Z",
     "iopub.status.idle": "2025-07-16T18:29:06.926756Z",
     "shell.execute_reply": "2025-07-16T18:29:06.925976Z"
    },
    "papermill": {
     "duration": 195.757575,
     "end_time": "2025-07-16T18:29:06.928580",
     "exception": false,
     "start_time": "2025-07-16T18:25:51.171005",
     "status": "completed"
    },
    "tags": []
   },
   "outputs": [
    {
     "data": {
      "application/vnd.jupyter.widget-view+json": {
       "model_id": "827453be53044a7794f1c487b2881a2f",
       "version_major": 2,
       "version_minor": 0
      },
      "text/plain": [
       "README.md: 0.00B [00:00, ?B/s]"
      ]
     },
     "metadata": {},
     "output_type": "display_data"
    },
    {
     "data": {
      "application/vnd.jupyter.widget-view+json": {
       "model_id": "67a969e4ded249d8a53391e7e60b9603",
       "version_major": 2,
       "version_minor": 0
      },
      "text/plain": [
       "Goodreads-Books.csv:   0%|          | 0.00/8.29G [00:00<?, ?B/s]"
      ]
     },
     "metadata": {},
     "output_type": "display_data"
    },
    {
     "data": {
      "application/vnd.jupyter.widget-view+json": {
       "model_id": "a2535c4ce8364307b293f40417ec9349",
       "version_major": 2,
       "version_minor": 0
      },
      "text/plain": [
       "Generating train split: 0 examples [00:00, ? examples/s]"
      ]
     },
     "metadata": {},
     "output_type": "display_data"
    },
    {
     "data": {
      "application/vnd.jupyter.widget-view+json": {
       "model_id": "f0800e174f61445ca56a255c7994e35b",
       "version_major": 2,
       "version_minor": 0
      },
      "text/plain": [
       "Loading dataset shards:   0%|          | 0/17 [00:00<?, ?it/s]"
      ]
     },
     "metadata": {},
     "output_type": "display_data"
    }
   ],
   "source": [
    "dataset = load_dataset('BrightData/Goodreads-Books')"
   ]
  },
  {
   "cell_type": "markdown",
   "id": "51233337",
   "metadata": {
    "papermill": {
     "duration": 0.00531,
     "end_time": "2025-07-16T18:29:06.939646",
     "exception": false,
     "start_time": "2025-07-16T18:29:06.934336",
     "status": "completed"
    },
    "tags": []
   },
   "source": [
    "## <a id=\"id5\">Exploratory Data Analysis (EDA)</a>"
   ]
  },
  {
   "cell_type": "code",
   "execution_count": 3,
   "id": "691ba9b8",
   "metadata": {
    "execution": {
     "iopub.execute_input": "2025-07-16T18:29:06.951755Z",
     "iopub.status.busy": "2025-07-16T18:29:06.951482Z",
     "iopub.status.idle": "2025-07-16T18:29:06.957418Z",
     "shell.execute_reply": "2025-07-16T18:29:06.956599Z"
    },
    "papermill": {
     "duration": 0.013521,
     "end_time": "2025-07-16T18:29:06.958698",
     "exception": false,
     "start_time": "2025-07-16T18:29:06.945177",
     "status": "completed"
    },
    "tags": []
   },
   "outputs": [
    {
     "data": {
      "text/plain": [
       "DatasetDict({\n",
       "    train: Dataset({\n",
       "        features: ['url', 'id', 'name', 'author', 'star_rating', 'num_ratings', 'num_reviews', 'summary', 'genres', 'first_published', 'about_author', 'community_reviews', 'kindle_price'],\n",
       "        num_rows: 6389859\n",
       "    })\n",
       "})"
      ]
     },
     "execution_count": 3,
     "metadata": {},
     "output_type": "execute_result"
    }
   ],
   "source": [
    "dataset"
   ]
  },
  {
   "cell_type": "code",
   "execution_count": 4,
   "id": "e0c9c735",
   "metadata": {
    "execution": {
     "iopub.execute_input": "2025-07-16T18:29:06.976850Z",
     "iopub.status.busy": "2025-07-16T18:29:06.976538Z",
     "iopub.status.idle": "2025-07-16T18:29:07.017293Z",
     "shell.execute_reply": "2025-07-16T18:29:07.016441Z"
    },
    "papermill": {
     "duration": 0.048826,
     "end_time": "2025-07-16T18:29:07.018829",
     "exception": false,
     "start_time": "2025-07-16T18:29:06.970003",
     "status": "completed"
    },
    "tags": []
   },
   "outputs": [],
   "source": [
    "dataset = dataset['train']\n",
    "dataset = dataset.select(range(10000))\n",
    "Data= dataset.select_columns([\"name\", \"summary\"]).to_pandas()\n",
    "Data = Data.rename(columns={\"name\": \"title\", \"summary\": \"description\"})"
   ]
  },
  {
   "cell_type": "code",
   "execution_count": 5,
   "id": "8fc514d1",
   "metadata": {
    "execution": {
     "iopub.execute_input": "2025-07-16T18:29:07.031538Z",
     "iopub.status.busy": "2025-07-16T18:29:07.031217Z",
     "iopub.status.idle": "2025-07-16T18:29:07.052121Z",
     "shell.execute_reply": "2025-07-16T18:29:07.051337Z"
    },
    "papermill": {
     "duration": 0.028916,
     "end_time": "2025-07-16T18:29:07.053537",
     "exception": false,
     "start_time": "2025-07-16T18:29:07.024621",
     "status": "completed"
    },
    "tags": []
   },
   "outputs": [
    {
     "data": {
      "text/html": [
       "<div>\n",
       "<style scoped>\n",
       "    .dataframe tbody tr th:only-of-type {\n",
       "        vertical-align: middle;\n",
       "    }\n",
       "\n",
       "    .dataframe tbody tr th {\n",
       "        vertical-align: top;\n",
       "    }\n",
       "\n",
       "    .dataframe thead th {\n",
       "        text-align: right;\n",
       "    }\n",
       "</style>\n",
       "<table border=\"1\" class=\"dataframe\">\n",
       "  <thead>\n",
       "    <tr style=\"text-align: right;\">\n",
       "      <th></th>\n",
       "      <th>title</th>\n",
       "      <th>description</th>\n",
       "    </tr>\n",
       "  </thead>\n",
       "  <tbody>\n",
       "    <tr>\n",
       "      <th>0</th>\n",
       "      <td>Horror Film Directors, 1931-1990</td>\n",
       "      <td>An exhaustive study of the major directors of ...</td>\n",
       "    </tr>\n",
       "    <tr>\n",
       "      <th>1</th>\n",
       "      <td>Australian Urban Planning: New Challenges, New...</td>\n",
       "      <td>Designed for use by academics, students, plann...</td>\n",
       "    </tr>\n",
       "    <tr>\n",
       "      <th>2</th>\n",
       "      <td>Morgen ohne gestern: Roman</td>\n",
       "      <td>Christine Hoffmann wacht eines Morgens im Kran...</td>\n",
       "    </tr>\n",
       "    <tr>\n",
       "      <th>3</th>\n",
       "      <td>Zen and the Art of Recording</td>\n",
       "      <td>In this book, the third in the Zen and the Art...</td>\n",
       "    </tr>\n",
       "    <tr>\n",
       "      <th>4</th>\n",
       "      <td>The Big Book Of Codewords</td>\n",
       "      <td>500 codeword puzzles in one great book!</td>\n",
       "    </tr>\n",
       "  </tbody>\n",
       "</table>\n",
       "</div>"
      ],
      "text/plain": [
       "                                               title  \\\n",
       "0                   Horror Film Directors, 1931-1990   \n",
       "1  Australian Urban Planning: New Challenges, New...   \n",
       "2                         Morgen ohne gestern: Roman   \n",
       "3                       Zen and the Art of Recording   \n",
       "4                          The Big Book Of Codewords   \n",
       "\n",
       "                                         description  \n",
       "0  An exhaustive study of the major directors of ...  \n",
       "1  Designed for use by academics, students, plann...  \n",
       "2  Christine Hoffmann wacht eines Morgens im Kran...  \n",
       "3  In this book, the third in the Zen and the Art...  \n",
       "4            500 codeword puzzles in one great book!  "
      ]
     },
     "execution_count": 5,
     "metadata": {},
     "output_type": "execute_result"
    }
   ],
   "source": [
    "Data.head()"
   ]
  },
  {
   "cell_type": "code",
   "execution_count": 6,
   "id": "f6cf6ef2",
   "metadata": {
    "execution": {
     "iopub.execute_input": "2025-07-16T18:29:07.066283Z",
     "iopub.status.busy": "2025-07-16T18:29:07.065982Z",
     "iopub.status.idle": "2025-07-16T18:29:07.074126Z",
     "shell.execute_reply": "2025-07-16T18:29:07.073056Z"
    },
    "papermill": {
     "duration": 0.016101,
     "end_time": "2025-07-16T18:29:07.075546",
     "exception": false,
     "start_time": "2025-07-16T18:29:07.059445",
     "status": "completed"
    },
    "tags": []
   },
   "outputs": [
    {
     "name": "stdout",
     "output_type": "stream",
     "text": [
      "title            0\n",
      "description    993\n",
      "dtype: int64\n"
     ]
    }
   ],
   "source": [
    "print(Data.isna().sum())"
   ]
  },
  {
   "cell_type": "code",
   "execution_count": 7,
   "id": "571f2327",
   "metadata": {
    "execution": {
     "iopub.execute_input": "2025-07-16T18:29:07.088104Z",
     "iopub.status.busy": "2025-07-16T18:29:07.087825Z",
     "iopub.status.idle": "2025-07-16T18:29:07.096967Z",
     "shell.execute_reply": "2025-07-16T18:29:07.096243Z"
    },
    "papermill": {
     "duration": 0.016968,
     "end_time": "2025-07-16T18:29:07.098387",
     "exception": false,
     "start_time": "2025-07-16T18:29:07.081419",
     "status": "completed"
    },
    "tags": []
   },
   "outputs": [],
   "source": [
    "Data = Data.dropna()"
   ]
  },
  {
   "cell_type": "code",
   "execution_count": 8,
   "id": "be2d3c51",
   "metadata": {
    "execution": {
     "iopub.execute_input": "2025-07-16T18:29:07.111276Z",
     "iopub.status.busy": "2025-07-16T18:29:07.110985Z",
     "iopub.status.idle": "2025-07-16T18:29:07.116357Z",
     "shell.execute_reply": "2025-07-16T18:29:07.115333Z"
    },
    "papermill": {
     "duration": 0.013638,
     "end_time": "2025-07-16T18:29:07.117875",
     "exception": false,
     "start_time": "2025-07-16T18:29:07.104237",
     "status": "completed"
    },
    "tags": []
   },
   "outputs": [],
   "source": [
    "def remove_non_english(Data, col):\n",
    "    def is_english(text):\n",
    "        try:\n",
    "            return detect(str(text)) == 'en'\n",
    "        except LangDetectException:\n",
    "            return False \n",
    "    return Data[Data[col].apply(is_english)]\n"
   ]
  },
  {
   "cell_type": "code",
   "execution_count": 9,
   "id": "04e91ae5",
   "metadata": {
    "execution": {
     "iopub.execute_input": "2025-07-16T18:29:07.131152Z",
     "iopub.status.busy": "2025-07-16T18:29:07.130153Z",
     "iopub.status.idle": "2025-07-16T18:29:47.112356Z",
     "shell.execute_reply": "2025-07-16T18:29:47.111291Z"
    },
    "papermill": {
     "duration": 39.990985,
     "end_time": "2025-07-16T18:29:47.114601",
     "exception": false,
     "start_time": "2025-07-16T18:29:07.123616",
     "status": "completed"
    },
    "tags": []
   },
   "outputs": [],
   "source": [
    "Data = remove_non_english(Data, 'description')"
   ]
  },
  {
   "cell_type": "code",
   "execution_count": 10,
   "id": "3de283bf",
   "metadata": {
    "execution": {
     "iopub.execute_input": "2025-07-16T18:29:47.128740Z",
     "iopub.status.busy": "2025-07-16T18:29:47.128446Z",
     "iopub.status.idle": "2025-07-16T18:29:47.133876Z",
     "shell.execute_reply": "2025-07-16T18:29:47.133115Z"
    },
    "papermill": {
     "duration": 0.014188,
     "end_time": "2025-07-16T18:29:47.135577",
     "exception": false,
     "start_time": "2025-07-16T18:29:47.121389",
     "status": "completed"
    },
    "tags": []
   },
   "outputs": [
    {
     "data": {
      "text/plain": [
       "(7346, 2)"
      ]
     },
     "execution_count": 10,
     "metadata": {},
     "output_type": "execute_result"
    }
   ],
   "source": [
    "Data.shape"
   ]
  },
  {
   "cell_type": "markdown",
   "id": "8e6d583f",
   "metadata": {
    "papermill": {
     "duration": 0.006896,
     "end_time": "2025-07-16T18:29:47.149348",
     "exception": false,
     "start_time": "2025-07-16T18:29:47.142452",
     "status": "completed"
    },
    "tags": []
   },
   "source": [
    "### 🧹 Text Cleaning and Preprocessing\n",
    "\n",
    "We apply the following steps to prepare the text:\n",
    "- Convert to lowercase\n",
    "- Remove stopwords (e.g., \"a\", \"the\", \"and\")\n",
    "- Lemmatize words (reduce to base form)\n",
    "\n",
    "This ensures the descriptions are clean and consistent for vectorization.\n"
   ]
  },
  {
   "cell_type": "code",
   "execution_count": 11,
   "id": "5af5a2f3",
   "metadata": {
    "execution": {
     "iopub.execute_input": "2025-07-16T18:29:47.162887Z",
     "iopub.status.busy": "2025-07-16T18:29:47.162570Z",
     "iopub.status.idle": "2025-07-16T18:29:47.291474Z",
     "shell.execute_reply": "2025-07-16T18:29:47.290274Z"
    },
    "papermill": {
     "duration": 0.137446,
     "end_time": "2025-07-16T18:29:47.292885",
     "exception": false,
     "start_time": "2025-07-16T18:29:47.155439",
     "status": "completed"
    },
    "tags": []
   },
   "outputs": [
    {
     "name": "stderr",
     "output_type": "stream",
     "text": [
      "[nltk_data] Downloading package stopwords to /usr/share/nltk_data...\n",
      "[nltk_data]   Package stopwords is already up-to-date!\n",
      "[nltk_data] Downloading package wordnet to /usr/share/nltk_data...\n",
      "[nltk_data]   Package wordnet is already up-to-date!\n"
     ]
    },
    {
     "data": {
      "text/plain": [
       "True"
      ]
     },
     "execution_count": 11,
     "metadata": {},
     "output_type": "execute_result"
    }
   ],
   "source": [
    "nltk.download(\"stopwords\")\n",
    "nltk.download(\"wordnet\")"
   ]
  },
  {
   "cell_type": "code",
   "execution_count": 12,
   "id": "f07e18df",
   "metadata": {
    "execution": {
     "iopub.execute_input": "2025-07-16T18:29:47.306944Z",
     "iopub.status.busy": "2025-07-16T18:29:47.306617Z",
     "iopub.status.idle": "2025-07-16T18:29:47.313337Z",
     "shell.execute_reply": "2025-07-16T18:29:47.312535Z"
    },
    "papermill": {
     "duration": 0.015316,
     "end_time": "2025-07-16T18:29:47.314725",
     "exception": false,
     "start_time": "2025-07-16T18:29:47.299409",
     "status": "completed"
    },
    "tags": []
   },
   "outputs": [],
   "source": [
    "stopWords = set(stopwords.words(\"english\"))\n",
    "lemmatizer = WordNetLemmatizer()"
   ]
  },
  {
   "cell_type": "code",
   "execution_count": 13,
   "id": "bb03b654",
   "metadata": {
    "execution": {
     "iopub.execute_input": "2025-07-16T18:29:47.328362Z",
     "iopub.status.busy": "2025-07-16T18:29:47.328010Z",
     "iopub.status.idle": "2025-07-16T18:29:47.333558Z",
     "shell.execute_reply": "2025-07-16T18:29:47.332447Z"
    },
    "papermill": {
     "duration": 0.014222,
     "end_time": "2025-07-16T18:29:47.335194",
     "exception": false,
     "start_time": "2025-07-16T18:29:47.320972",
     "status": "completed"
    },
    "tags": []
   },
   "outputs": [],
   "source": [
    "def preprocessText(txt):\n",
    "    txt = txt.lower()\n",
    "    token_txt = word_tokenize(txt)\n",
    "    \n",
    "\n",
    "    filtered_tokens = [\n",
    "        word for word in token_txt \n",
    "        if word not in stopWords \n",
    "    ]\n",
    "    \n",
    "    lemmatized_tokens = [lemmatizer.lemmatize(token, pos='v') for token in filtered_tokens]\n",
    "    \n",
    "    return ' '.join(lemmatized_tokens)\n"
   ]
  },
  {
   "cell_type": "code",
   "execution_count": 14,
   "id": "53f02970",
   "metadata": {
    "execution": {
     "iopub.execute_input": "2025-07-16T18:29:47.348617Z",
     "iopub.status.busy": "2025-07-16T18:29:47.347981Z",
     "iopub.status.idle": "2025-07-16T18:30:00.440011Z",
     "shell.execute_reply": "2025-07-16T18:30:00.439080Z"
    },
    "papermill": {
     "duration": 13.10037,
     "end_time": "2025-07-16T18:30:00.441577",
     "exception": false,
     "start_time": "2025-07-16T18:29:47.341207",
     "status": "completed"
    },
    "tags": []
   },
   "outputs": [
    {
     "data": {
      "text/plain": [
       "0       exhaustive study major directors horror film p...\n",
       "1       design use academics , students , plan profess...\n",
       "3       book , third zen art series , mixerman distill...\n",
       "4                    500 codeword puzzle one great book !\n",
       "5       antique apples kilcherman ’ christmas cove far...\n",
       "                              ...                        \n",
       "9992    “ circle fifths ” intend help beginner early i...\n",
       "9994    * * * read free kindle unlimited * * * special...\n",
       "9995    help teach intermediate japanese well-known ch...\n",
       "9997    collection twelve stories , barry lopez—the na...\n",
       "9999    kevin o'rourke 's debut collection explore mea...\n",
       "Name: description, Length: 7346, dtype: object"
      ]
     },
     "execution_count": 14,
     "metadata": {},
     "output_type": "execute_result"
    }
   ],
   "source": [
    "Data['description'].apply(preprocessText)"
   ]
  },
  {
   "cell_type": "markdown",
   "id": "84430670",
   "metadata": {
    "papermill": {
     "duration": 0.00615,
     "end_time": "2025-07-16T18:30:00.454561",
     "exception": false,
     "start_time": "2025-07-16T18:30:00.448411",
     "status": "completed"
    },
    "tags": []
   },
   "source": [
    "### 🔢 Text Vectorization (TF-IDF)\n",
    "\n",
    "We use **TF-IDF vectorization** to convert the cleaned book descriptions into numerical features.\n",
    "This allows the clustering algorithm to compare books based on word importance.\n"
   ]
  },
  {
   "cell_type": "code",
   "execution_count": 15,
   "id": "6c976673",
   "metadata": {
    "execution": {
     "iopub.execute_input": "2025-07-16T18:30:00.468874Z",
     "iopub.status.busy": "2025-07-16T18:30:00.468357Z",
     "iopub.status.idle": "2025-07-16T18:30:01.501052Z",
     "shell.execute_reply": "2025-07-16T18:30:01.500068Z"
    },
    "papermill": {
     "duration": 1.041865,
     "end_time": "2025-07-16T18:30:01.502732",
     "exception": false,
     "start_time": "2025-07-16T18:30:00.460867",
     "status": "completed"
    },
    "tags": []
   },
   "outputs": [],
   "source": [
    "vectorizer = TfidfVectorizer()\n",
    "X = vectorizer.fit_transform(Data['description'])"
   ]
  },
  {
   "cell_type": "markdown",
   "id": "c8db29d8",
   "metadata": {
    "papermill": {
     "duration": 0.008027,
     "end_time": "2025-07-16T18:30:01.517386",
     "exception": false,
     "start_time": "2025-07-16T18:30:01.509359",
     "status": "completed"
    },
    "tags": []
   },
   "source": [
    "## 🔗 Step 3: Apply KMeans Clustering\n",
    "\n",
    "We apply the KMeans algorithm to group books into clusters based on their TF-IDF vectors.\n",
    "\n",
    "Each cluster represents a group of books with similar themes or topics — what we call **micro-genres**.\n"
   ]
  },
  {
   "cell_type": "code",
   "execution_count": 16,
   "id": "de3e130d",
   "metadata": {
    "execution": {
     "iopub.execute_input": "2025-07-16T18:30:01.531498Z",
     "iopub.status.busy": "2025-07-16T18:30:01.531182Z",
     "iopub.status.idle": "2025-07-16T18:35:05.207109Z",
     "shell.execute_reply": "2025-07-16T18:35:05.206374Z"
    },
    "papermill": {
     "duration": 303.684948,
     "end_time": "2025-07-16T18:35:05.208838",
     "exception": false,
     "start_time": "2025-07-16T18:30:01.523890",
     "status": "completed"
    },
    "tags": []
   },
   "outputs": [],
   "source": [
    "scores = []\n",
    "k_range = range(2, 25)\n",
    "\n",
    "best_k = 0\n",
    "best_score = -1 \n",
    "\n",
    "for k in k_range:\n",
    "    kmeans = KMeans(n_clusters=k, n_init=10, random_state=42)\n",
    "    labels = kmeans.fit_predict(X)\n",
    "    score = silhouette_score(X, labels)\n",
    "    \n",
    "    scores.append(score)\n",
    "    \n",
    "    if score > best_score:\n",
    "        best_score = score\n",
    "        best_k = k\n"
   ]
  },
  {
   "cell_type": "code",
   "execution_count": 17,
   "id": "5e6cd510",
   "metadata": {
    "execution": {
     "iopub.execute_input": "2025-07-16T18:35:05.223399Z",
     "iopub.status.busy": "2025-07-16T18:35:05.222525Z",
     "iopub.status.idle": "2025-07-16T18:35:05.579021Z",
     "shell.execute_reply": "2025-07-16T18:35:05.578120Z"
    },
    "papermill": {
     "duration": 0.365223,
     "end_time": "2025-07-16T18:35:05.580802",
     "exception": false,
     "start_time": "2025-07-16T18:35:05.215579",
     "status": "completed"
    },
    "tags": []
   },
   "outputs": [
    {
     "data": {
      "image/png": "[encoded data removed]",
      "text/plain": [
       "<Figure size 1000x500 with 1 Axes>"
      ]
     },
     "metadata": {},
     "output_type": "display_data"
    }
   ],
   "source": [
    "plt.figure(figsize=(10, 5))\n",
    "plt.plot(list(k_range), scores, marker='o')  \n",
    "plt.xlabel('Number of clusters (k)')\n",
    "plt.ylabel('Silhouette Score')\n",
    "plt.title('Silhouette Score for Different k')\n",
    "plt.grid(True)\n",
    "plt.show()\n"
   ]
  },
  {
   "cell_type": "code",
   "execution_count": 18,
   "id": "3cb274a7",
   "metadata": {
    "execution": {
     "iopub.execute_input": "2025-07-16T18:35:05.597132Z",
     "iopub.status.busy": "2025-07-16T18:35:05.596807Z",
     "iopub.status.idle": "2025-07-16T18:35:18.463115Z",
     "shell.execute_reply": "2025-07-16T18:35:18.462404Z"
    },
    "papermill": {
     "duration": 12.876366,
     "end_time": "2025-07-16T18:35:18.465034",
     "exception": false,
     "start_time": "2025-07-16T18:35:05.588668",
     "status": "completed"
    },
    "tags": []
   },
   "outputs": [],
   "source": [
    "model = KMeans(n_clusters=best_k, n_init=10, random_state=42)\n",
    "Data[\"genre\"] = model.fit_predict(X)"
   ]
  },
  {
   "cell_type": "code",
   "execution_count": 19,
   "id": "9eb32a54",
   "metadata": {
    "execution": {
     "iopub.execute_input": "2025-07-16T18:35:18.483009Z",
     "iopub.status.busy": "2025-07-16T18:35:18.482685Z",
     "iopub.status.idle": "2025-07-16T18:35:18.492556Z",
     "shell.execute_reply": "2025-07-16T18:35:18.491584Z"
    },
    "papermill": {
     "duration": 0.019414,
     "end_time": "2025-07-16T18:35:18.494053",
     "exception": false,
     "start_time": "2025-07-16T18:35:18.474639",
     "status": "completed"
    },
    "tags": []
   },
   "outputs": [
    {
     "data": {
      "text/html": [
       "<div>\n",
       "<style scoped>\n",
       "    .dataframe tbody tr th:only-of-type {\n",
       "        vertical-align: middle;\n",
       "    }\n",
       "\n",
       "    .dataframe tbody tr th {\n",
       "        vertical-align: top;\n",
       "    }\n",
       "\n",
       "    .dataframe thead th {\n",
       "        text-align: right;\n",
       "    }\n",
       "</style>\n",
       "<table border=\"1\" class=\"dataframe\">\n",
       "  <thead>\n",
       "    <tr style=\"text-align: right;\">\n",
       "      <th></th>\n",
       "      <th>title</th>\n",
       "      <th>description</th>\n",
       "      <th>genre</th>\n",
       "    </tr>\n",
       "  </thead>\n",
       "  <tbody>\n",
       "    <tr>\n",
       "      <th>0</th>\n",
       "      <td>Horror Film Directors, 1931-1990</td>\n",
       "      <td>An exhaustive study of the major directors of ...</td>\n",
       "      <td>9</td>\n",
       "    </tr>\n",
       "    <tr>\n",
       "      <th>1</th>\n",
       "      <td>Australian Urban Planning: New Challenges, New...</td>\n",
       "      <td>Designed for use by academics, students, plann...</td>\n",
       "      <td>9</td>\n",
       "    </tr>\n",
       "    <tr>\n",
       "      <th>3</th>\n",
       "      <td>Zen and the Art of Recording</td>\n",
       "      <td>In this book, the third in the Zen and the Art...</td>\n",
       "      <td>9</td>\n",
       "    </tr>\n",
       "    <tr>\n",
       "      <th>4</th>\n",
       "      <td>The Big Book Of Codewords</td>\n",
       "      <td>500 codeword puzzles in one great book!</td>\n",
       "      <td>7</td>\n",
       "    </tr>\n",
       "    <tr>\n",
       "      <th>5</th>\n",
       "      <td>Antique Apples from Kilcherman's Christmas Cov...</td>\n",
       "      <td>Antique Apples from Kilcherman’s Christmas Cov...</td>\n",
       "      <td>5</td>\n",
       "    </tr>\n",
       "    <tr>\n",
       "      <th>6</th>\n",
       "      <td>It's A Wonderful Death: A Fortannis Novel</td>\n",
       "      <td>A brave knight breaks her vows to fight agains...</td>\n",
       "      <td>12</td>\n",
       "    </tr>\n",
       "    <tr>\n",
       "      <th>8</th>\n",
       "      <td>Oman Under Qaboos</td>\n",
       "      <td>This is an examination of the political, econo...</td>\n",
       "      <td>9</td>\n",
       "    </tr>\n",
       "    <tr>\n",
       "      <th>9</th>\n",
       "      <td>Quilts From Lavender Hill Farm: 12 Projects In...</td>\n",
       "      <td>Bring a Touch of the Country Into Your Home In...</td>\n",
       "      <td>13</td>\n",
       "    </tr>\n",
       "    <tr>\n",
       "      <th>14</th>\n",
       "      <td>Il Gigante: Michelangelo, Florence, and the Da...</td>\n",
       "      <td>At the turn of the 16th century, Italy was a t...</td>\n",
       "      <td>5</td>\n",
       "    </tr>\n",
       "    <tr>\n",
       "      <th>16</th>\n",
       "      <td>Ok Cupid Dating Success: Attract &amp; Seduce Girl...</td>\n",
       "      <td>Over half of new relationships start online th...</td>\n",
       "      <td>8</td>\n",
       "    </tr>\n",
       "    <tr>\n",
       "      <th>18</th>\n",
       "      <td>Verzamelde Gedichten</td>\n",
       "      <td>Dutch</td>\n",
       "      <td>14</td>\n",
       "    </tr>\n",
       "    <tr>\n",
       "      <th>19</th>\n",
       "      <td>Sam Saboura's Real Style: Style Secrets for Re...</td>\n",
       "      <td>Sam Saboura knows a thing or two about style. ...</td>\n",
       "      <td>8</td>\n",
       "    </tr>\n",
       "    <tr>\n",
       "      <th>20</th>\n",
       "      <td>A New Psychology of Women with Sex &amp; Gender On...</td>\n",
       "      <td>This text begins with the premise that everyth...</td>\n",
       "      <td>9</td>\n",
       "    </tr>\n",
       "    <tr>\n",
       "      <th>21</th>\n",
       "      <td>Workforce Housing: Innovative Strategies and B...</td>\n",
       "      <td>This book describes some of the most innovativ...</td>\n",
       "      <td>14</td>\n",
       "    </tr>\n",
       "    <tr>\n",
       "      <th>24</th>\n",
       "      <td>Bible Stories Book 2 - The Story of Adam and Eve</td>\n",
       "      <td>This is the story of how the serpent gets Eve ...</td>\n",
       "      <td>18</td>\n",
       "    </tr>\n",
       "    <tr>\n",
       "      <th>25</th>\n",
       "      <td>Final Analysis: The Untold Story of the Susan ...</td>\n",
       "      <td>In October 2002, Susan Polk, a housewife and m...</td>\n",
       "      <td>5</td>\n",
       "    </tr>\n",
       "    <tr>\n",
       "      <th>27</th>\n",
       "      <td>Cosmopolis</td>\n",
       "      <td>This is an EXACT reproduction of a book publis...</td>\n",
       "      <td>10</td>\n",
       "    </tr>\n",
       "    <tr>\n",
       "      <th>28</th>\n",
       "      <td>Painting Seascapes in Watercolor</td>\n",
       "      <td>This work about watercolour opens with a histo...</td>\n",
       "      <td>14</td>\n",
       "    </tr>\n",
       "    <tr>\n",
       "      <th>29</th>\n",
       "      <td>Chicken Soup for Little Souls: Della Splatnuk,...</td>\n",
       "      <td>The last thing Carrie wants to do is go to Del...</td>\n",
       "      <td>13</td>\n",
       "    </tr>\n",
       "    <tr>\n",
       "      <th>30</th>\n",
       "      <td>Documenting Spain: Artists, Exhibition Culture...</td>\n",
       "      <td>The news media have given us potent demonstrat...</td>\n",
       "      <td>9</td>\n",
       "    </tr>\n",
       "  </tbody>\n",
       "</table>\n",
       "</div>"
      ],
      "text/plain": [
       "                                                title  \\\n",
       "0                    Horror Film Directors, 1931-1990   \n",
       "1   Australian Urban Planning: New Challenges, New...   \n",
       "3                        Zen and the Art of Recording   \n",
       "4                           The Big Book Of Codewords   \n",
       "5   Antique Apples from Kilcherman's Christmas Cov...   \n",
       "6           It's A Wonderful Death: A Fortannis Novel   \n",
       "8                                   Oman Under Qaboos   \n",
       "9   Quilts From Lavender Hill Farm: 12 Projects In...   \n",
       "14  Il Gigante: Michelangelo, Florence, and the Da...   \n",
       "16  Ok Cupid Dating Success: Attract & Seduce Girl...   \n",
       "18                               Verzamelde Gedichten   \n",
       "19  Sam Saboura's Real Style: Style Secrets for Re...   \n",
       "20  A New Psychology of Women with Sex & Gender On...   \n",
       "21  Workforce Housing: Innovative Strategies and B...   \n",
       "24   Bible Stories Book 2 - The Story of Adam and Eve   \n",
       "25  Final Analysis: The Untold Story of the Susan ...   \n",
       "27                                         Cosmopolis   \n",
       "28                   Painting Seascapes in Watercolor   \n",
       "29  Chicken Soup for Little Souls: Della Splatnuk,...   \n",
       "30  Documenting Spain: Artists, Exhibition Culture...   \n",
       "\n",
       "                                          description  genre  \n",
       "0   An exhaustive study of the major directors of ...      9  \n",
       "1   Designed for use by academics, students, plann...      9  \n",
       "3   In this book, the third in the Zen and the Art...      9  \n",
       "4             500 codeword puzzles in one great book!      7  \n",
       "5   Antique Apples from Kilcherman’s Christmas Cov...      5  \n",
       "6   A brave knight breaks her vows to fight agains...     12  \n",
       "8   This is an examination of the political, econo...      9  \n",
       "9   Bring a Touch of the Country Into Your Home In...     13  \n",
       "14  At the turn of the 16th century, Italy was a t...      5  \n",
       "16  Over half of new relationships start online th...      8  \n",
       "18                                              Dutch     14  \n",
       "19  Sam Saboura knows a thing or two about style. ...      8  \n",
       "20  This text begins with the premise that everyth...      9  \n",
       "21  This book describes some of the most innovativ...     14  \n",
       "24  This is the story of how the serpent gets Eve ...     18  \n",
       "25  In October 2002, Susan Polk, a housewife and m...      5  \n",
       "27  This is an EXACT reproduction of a book publis...     10  \n",
       "28  This work about watercolour opens with a histo...     14  \n",
       "29  The last thing Carrie wants to do is go to Del...     13  \n",
       "30  The news media have given us potent demonstrat...      9  "
      ]
     },
     "execution_count": 19,
     "metadata": {},
     "output_type": "execute_result"
    }
   ],
   "source": [
    "Data.head(20)"
   ]
  },
  {
   "cell_type": "markdown",
   "id": "b741a2a6",
   "metadata": {
    "papermill": {
     "duration": 0.007345,
     "end_time": "2025-07-16T18:35:18.509138",
     "exception": false,
     "start_time": "2025-07-16T18:35:18.501793",
     "status": "completed"
    },
    "tags": []
   },
   "source": [
    "## 📊 Step 4: Evaluate Clustering\n",
    "\n",
    "We use the **Silhouette Score** to evaluate the quality of the clustering."
   ]
  },
  {
   "cell_type": "code",
   "execution_count": 20,
   "id": "baeae06b",
   "metadata": {
    "execution": {
     "iopub.execute_input": "2025-07-16T18:35:18.525423Z",
     "iopub.status.busy": "2025-07-16T18:35:18.525091Z",
     "iopub.status.idle": "2025-07-16T18:35:18.529937Z",
     "shell.execute_reply": "2025-07-16T18:35:18.528966Z"
    },
    "papermill": {
     "duration": 0.014828,
     "end_time": "2025-07-16T18:35:18.531420",
     "exception": false,
     "start_time": "2025-07-16T18:35:18.516592",
     "status": "completed"
    },
    "tags": []
   },
   "outputs": [
    {
     "name": "stdout",
     "output_type": "stream",
     "text": [
      "Silhouette Score: 0.007962643028240826\n"
     ]
    }
   ],
   "source": [
    "score = best_score\n",
    "print(f\"Silhouette Score: {score}\")"
   ]
  },
  {
   "cell_type": "markdown",
   "id": "b59d5472",
   "metadata": {
    "papermill": {
     "duration": 0.007557,
     "end_time": "2025-07-16T18:35:18.546654",
     "exception": false,
     "start_time": "2025-07-16T18:35:18.539097",
     "status": "completed"
    },
    "tags": []
   },
   "source": [
    "### 💾 Save Results to CSV\n",
    "\n",
    "We save the clustered data to a CSV file for further exploration, analysis, or use in other systems.\n"
   ]
  },
  {
   "cell_type": "code",
   "execution_count": 21,
   "id": "134a68d1",
   "metadata": {
    "execution": {
     "iopub.execute_input": "2025-07-16T18:35:18.638317Z",
     "iopub.status.busy": "2025-07-16T18:35:18.637998Z",
     "iopub.status.idle": "2025-07-16T18:35:18.859328Z",
     "shell.execute_reply": "2025-07-16T18:35:18.858623Z"
    },
    "papermill": {
     "duration": 0.30672,
     "end_time": "2025-07-16T18:35:18.860869",
     "exception": false,
     "start_time": "2025-07-16T18:35:18.554149",
     "status": "completed"
    },
    "tags": []
   },
   "outputs": [],
   "source": [
    "Data.to_csv(\"Book's_genre.csv\", index=False)"
   ]
  },
  {
   "cell_type": "markdown",
   "id": "dd14e22c",
   "metadata": {
    "papermill": {
     "duration": 0.007375,
     "end_time": "2025-07-16T18:35:18.876194",
     "exception": false,
     "start_time": "2025-07-16T18:35:18.868819",
     "status": "completed"
    },
    "tags": []
   },
   "source": [
    "### ✅ Conclusion\n",
    "\n",
    "- We explored whether book descriptions can reveal hidden micro-genres using clustering.\n",
    "- Text preprocessing and TF-IDF allowed us to convert descriptions into numerical features.\n",
    "- KMeans grouped the books, but evaluation shows clustering can be improved.\n",
    "- Future work: Try more clusters, better text cleaning, or advanced models like LDA or embeddings.\n"
   ]
  }
 ],
 "metadata": {
  "kaggle": {
   "accelerator": "none",
   "dataSources": [],
   "dockerImageVersionId": 31089,
   "isGpuEnabled": false,
   "isInternetEnabled": true,
   "language": "python",
   "sourceType": "notebook"
  },
  "kernelspec": {
   "display_name": "Python 3",
   "language": "python",
   "name": "python3"
  },
  "language_info": {
   "codemirror_mode": {
    "name": "ipython",
    "version": 3
   },
   "file_extension": ".py",
   "mimetype": "text/x-python",
   "name": "python",
   "nbconvert_exporter": "python",
   "pygments_lexer": "ipython3",
   "version": "3.11.13"
  },
  "papermill": {
   "default_parameters": {},
   "duration": 588.096079,
   "end_time": "2025-07-16T18:35:20.608754",
   "environment_variables": {},
   "exception": null,
   "input_path": "__notebook__.ipynb",
   "output_path": "__notebook__.ipynb",
   "parameters": {},
   "start_time": "2025-07-16T18:25:32.512675",
   "version": "2.6.0"
  },
  "widgets": {
   "application/vnd.jupyter.widget-state+json": {
    "state": {
     "03032323c0fd46d0b22e29785c1c3120": {
      "model_module": "@jupyter-widgets/controls",
      "model_module_version": "2.0.0",
      "model_name": "HTMLModel",
      "state": {
       "_dom_classes": [],
       "_model_module": "@jupyter-widgets/controls",
       "_model_module_version": "2.0.0",
       "_model_name": "HTMLModel",
       "_view_count": null,
       "_view_module": "@jupyter-widgets/controls",
       "_view_module_version": "2.0.0",
       "_view_name": "HTMLView",
       "description": "",
       "description_allow_html": false,
       "layout": "IPY_MODEL_c6a2d4e68ad54a7f8acff4d8474ac69e",
       "placeholder": "​",
       "style": "IPY_MODEL_abe22ab4861b438eb6a03a02dd094a13",
       "tabbable": null,
       "tooltip": null,
       "value": "README.md: "
      }
     },
     "03dfc1c81dc247b3a4c21e056eec0bf0": {
      "model_module": "@jupyter-widgets/base",
      "model_module_version": "2.0.0",
      "model_name": "LayoutModel",
      "state": {
       "_model_module": "@jupyter-widgets/base",
       "_model_module_version": "2.0.0",
       "_model_name": "LayoutModel",
       "_view_count": null,
       "_view_module": "@jupyter-widgets/base",
       "_view_module_version": "2.0.0",
       "_view_name": "LayoutView",
       "align_content": null,
       "align_items": null,
       "align_self": null,
       "border_bottom": null,
       "border_left": null,
       "border_right": null,
       "border_top": null,
       "bottom": null,
       "display": null,
       "flex": null,
       "flex_flow": null,
       "grid_area": null,
       "grid_auto_columns": null,
       "grid_auto_flow": null,
       "grid_auto_rows": null,
       "grid_column": null,
       "grid_gap": null,
       "grid_row": null,
       "grid_template_areas": null,
       "grid_template_columns": null,
       "grid_template_rows": null,
       "height": null,
       "justify_content": null,
       "justify_items": null,
       "left": null,
       "margin": null,
       "max_height": null,
       "max_width": null,
       "min_height": null,
       "min_width": null,
       "object_fit": null,
       "object_position": null,
       "order": null,
       "overflow": null,
       "padding": null,
       "right": null,
       "top": null,
       "visibility": null,
       "width": null
      }
     },
     "0638e31b627444f1a5309dbc2e7b7fe4": {
      "model_module": "@jupyter-widgets/base",
      "model_module_version": "2.0.0",
      "model_name": "LayoutModel",
      "state": {
       "_model_module": "@jupyter-widgets/base",
       "_model_module_version": "2.0.0",
       "_model_name": "LayoutModel",
       "_view_count": null,
       "_view_module": "@jupyter-widgets/base",
       "_view_module_version": "2.0.0",
       "_view_name": "LayoutView",
       "align_content": null,
       "align_items": null,
       "align_self": null,
       "border_bottom": null,
       "border_left": null,
       "border_right": null,
       "border_top": null,
       "bottom": null,
       "display": null,
       "flex": null,
       "flex_flow": null,
       "grid_area": null,
       "grid_auto_columns": null,
       "grid_auto_flow": null,
       "grid_auto_rows": null,
       "grid_column": null,
       "grid_gap": null,
       "grid_row": null,
       "grid_template_areas": null,
       "grid_template_columns": null,
       "grid_template_rows": null,
       "height": null,
       "justify_content": null,
       "justify_items": null,
       "left": null,
       "margin": null,
       "max_height": null,
       "max_width": null,
       "min_height": null,
       "min_width": null,
       "object_fit": null,
       "object_position": null,
       "order": null,
       "overflow": null,
       "padding": null,
       "right": null,
       "top": null,
       "visibility": null,
       "width": null
      }
     },
     "0ae9538045af45a0bd9b0315922eef08": {
      "model_module": "@jupyter-widgets/controls",
      "model_module_version": "2.0.0",
      "model_name": "HTMLModel",
      "state": {
       "_dom_classes": [],
       "_model_module": "@jupyter-widgets/controls",
       "_model_module_version": "2.0.0",
       "_model_name": "HTMLModel",
       "_view_count": null,
       "_view_module": "@jupyter-widgets/controls",
       "_view_module_version": "2.0.0",
       "_view_name": "HTMLView",
       "description": "",
       "description_allow_html": false,
       "layout": "IPY_MODEL_9e797ff2edcd42ae97188539a64cd3bb",
       "placeholder": "​",
       "style": "IPY_MODEL_6324eb502492469daaa3a04f99391834",
       "tabbable": null,
       "tooltip": null,
       "value": "Loading dataset shards: 100%"
      }
     },
     "0aea9d14dcff434aa239a15ef50b3367": {
      "model_module": "@jupyter-widgets/controls",
      "model_module_version": "2.0.0",
      "model_name": "HTMLModel",
      "state": {
       "_dom_classes": [],
       "_model_module": "@jupyter-widgets/controls",
       "_model_module_version": "2.0.0",
       "_model_name": "HTMLModel",
       "_view_count": null,
       "_view_module": "@jupyter-widgets/controls",
       "_view_module_version": "2.0.0",
       "_view_name": "HTMLView",
       "description": "",
       "description_allow_html": false,
       "layout": "IPY_MODEL_0638e31b627444f1a5309dbc2e7b7fe4",
       "placeholder": "​",
       "style": "IPY_MODEL_4dbb7718e9f548ed977421f9a43ed6da",
       "tabbable": null,
       "tooltip": null,
       "value": "Generating train split: "
      }
     },
     "0fca4799c0b04337bfce21b64b148c6c": {
      "model_module": "@jupyter-widgets/base",
      "model_module_version": "2.0.0",
      "model_name": "LayoutModel",
      "state": {
       "_model_module": "@jupyter-widgets/base",
       "_model_module_version": "2.0.0",
       "_model_name": "LayoutModel",
       "_view_count": null,
       "_view_module": "@jupyter-widgets/base",
       "_view_module_version": "2.0.0",
       "_view_name": "LayoutView",
       "align_content": null,
       "align_items": null,
       "align_self": null,
       "border_bottom": null,
       "border_left": null,
       "border_right": null,
       "border_top": null,
       "bottom": null,
       "display": null,
       "flex": null,
       "flex_flow": null,
       "grid_area": null,
       "grid_auto_columns": null,
       "grid_auto_flow": null,
       "grid_auto_rows": null,
       "grid_column": null,
       "grid_gap": null,
       "grid_row": null,
       "grid_template_areas": null,
       "grid_template_columns": null,
       "grid_template_rows": null,
       "height": null,
       "justify_content": null,
       "justify_items": null,
       "left": null,
       "margin": null,
       "max_height": null,
       "max_width": null,
       "min_height": null,
       "min_width": null,
       "object_fit": null,
       "object_position": null,
       "order": null,
       "overflow": null,
       "padding": null,
       "right": null,
       "top": null,
       "visibility": null,
       "width": "20px"
      }
     },
     "1a47833ab4554660893f54be6b7df66f": {
      "model_module": "@jupyter-widgets/controls",
      "model_module_version": "2.0.0",
      "model_name": "HTMLStyleModel",
      "state": {
       "_model_module": "@jupyter-widgets/controls",
       "_model_module_version": "2.0.0",
       "_model_name": "HTMLStyleModel",
       "_view_count": null,
       "_view_module": "@jupyter-widgets/base",
       "_view_module_version": "2.0.0",
       "_view_name": "StyleView",
       "background": null,
       "description_width": "",
       "font_size": null,
       "text_color": null
      }
     },
     "1fa0bb093635438e8f04b75a6925a75b": {
      "model_module": "@jupyter-widgets/controls",
      "model_module_version": "2.0.0",
      "model_name": "HBoxModel",
      "state": {
       "_dom_classes": [],
       "_model_module": "@jupyter-widgets/controls",
       "_model_module_version": "2.0.0",
       "_model_name": "HBoxModel",
       "_view_count": null,
       "_view_module": "@jupyter-widgets/controls",
       "_view_module_version": "2.0.0",
       "_view_name": "HBoxView",
       "box_style": "",
       "children": [
        "IPY_MODEL_71fb6636fb1e4e378470fa1e24b008e3",
        "IPY_MODEL_c6a8f248735c4e659aceb95146221215",
        "IPY_MODEL_cca4cf4954924282a1c548b7a4e26a03"
       ],
       "layout": "IPY_MODEL_b4cae43cafbc439fbf6271e1d1b74ed7",
       "tabbable": null,
       "tooltip": null
      }
     },
     "2290b186d3bb4610a1e07d4581e004be": {
      "model_module": "@jupyter-widgets/controls",
      "model_module_version": "2.0.0",
      "model_name": "ProgressStyleModel",
      "state": {
       "_model_module": "@jupyter-widgets/controls",
       "_model_module_version": "2.0.0",
       "_model_name": "ProgressStyleModel",
       "_view_count": null,
       "_view_module": "@jupyter-widgets/base",
       "_view_module_version": "2.0.0",
       "_view_name": "StyleView",
       "bar_color": null,
       "description_width": ""
      }
     },
     "2e526cfdaef54873a6b10194c9e62cbc": {
      "model_module": "@jupyter-widgets/controls",
      "model_module_version": "2.0.0",
      "model_name": "HTMLModel",
      "state": {
       "_dom_classes": [],
       "_model_module": "@jupyter-widgets/controls",
       "_model_module_version": "2.0.0",
       "_model_name": "HTMLModel",
       "_view_count": null,
       "_view_module": "@jupyter-widgets/controls",
       "_view_module_version": "2.0.0",
       "_view_name": "HTMLView",
       "description": "",
       "description_allow_html": false,
       "layout": "IPY_MODEL_a7529edfa0dd45de8127216668091635",
       "placeholder": "​",
       "style": "IPY_MODEL_65aa10156d6c480fbd9cde9dc800b073",
       "tabbable": null,
       "tooltip": null,
       "value": " 17/17 [00:00&lt;00:00,  8.25it/s]"
      }
     },
     "2f06885208d94b0f93cfa81d9b966f07": {
      "model_module": "@jupyter-widgets/controls",
      "model_module_version": "2.0.0",
      "model_name": "HTMLStyleModel",
      "state": {
       "_model_module": "@jupyter-widgets/controls",
       "_model_module_version": "2.0.0",
       "_model_name": "HTMLStyleModel",
       "_view_count": null,
       "_view_module": "@jupyter-widgets/base",
       "_view_module_version": "2.0.0",
       "_view_name": "StyleView",
       "background": null,
       "description_width": "",
       "font_size": null,
       "text_color": null
      }
     },
     "3483ff44db1446b889bbfeccf82e491c": {
      "model_module": "@jupyter-widgets/controls",
      "model_module_version": "2.0.0",
      "model_name": "HTMLModel",
      "state": {
       "_dom_classes": [],
       "_model_module": "@jupyter-widgets/controls",
       "_model_module_version": "2.0.0",
       "_model_name": "HTMLModel",
       "_view_count": null,
       "_view_module": "@jupyter-widgets/controls",
       "_view_module_version": "2.0.0",
       "_view_name": "HTMLView",
       "description": "",
       "description_allow_html": false,
       "layout": "IPY_MODEL_fd8ca1911ee9455a9628e05b608a3cb6",
       "placeholder": "​",
       "style": "IPY_MODEL_3eadabfcf1884e3495d898122e4ede31",
       "tabbable": null,
       "tooltip": null,
       "value": " 6389859/0 [02:35&lt;00:00, 42623.66 examples/s]"
      }
     },
     "3eadabfcf1884e3495d898122e4ede31": {
      "model_module": "@jupyter-widgets/controls",
      "model_module_version": "2.0.0",
      "model_name": "HTMLStyleModel",
      "state": {
       "_model_module": "@jupyter-widgets/controls",
       "_model_module_version": "2.0.0",
       "_model_name": "HTMLStyleModel",
       "_view_count": null,
       "_view_module": "@jupyter-widgets/base",
       "_view_module_version": "2.0.0",
       "_view_name": "StyleView",
       "background": null,
       "description_width": "",
       "font_size": null,
       "text_color": null
      }
     },
     "4dbb7718e9f548ed977421f9a43ed6da": {
      "model_module": "@jupyter-widgets/controls",
      "model_module_version": "2.0.0",
      "model_name": "HTMLStyleModel",
      "state": {
       "_model_module": "@jupyter-widgets/controls",
       "_model_module_version": "2.0.0",
       "_model_name": "HTMLStyleModel",
       "_view_count": null,
       "_view_module": "@jupyter-widgets/base",
       "_view_module_version": "2.0.0",
       "_view_name": "StyleView",
       "background": null,
       "description_width": "",
       "font_size": null,
       "text_color": null
      }
     },
     "54b7bcb79fa14a068c141149a75a707b": {
      "model_module": "@jupyter-widgets/controls",
      "model_module_version": "2.0.0",
      "model_name": "FloatProgressModel",
      "state": {
       "_dom_classes": [],
       "_model_module": "@jupyter-widgets/controls",
       "_model_module_version": "2.0.0",
       "_model_name": "FloatProgressModel",
       "_view_count": null,
       "_view_module": "@jupyter-widgets/controls",
       "_view_module_version": "2.0.0",
       "_view_name": "ProgressView",
       "bar_style": "success",
       "description": "",
       "description_allow_html": false,
       "layout": "IPY_MODEL_d22f2dfbbab543e09c4bf5a9b1c78287",
       "max": 1.0,
       "min": 0.0,
       "orientation": "horizontal",
       "style": "IPY_MODEL_efc2b08e03264918a39cdd66f31584df",
       "tabbable": null,
       "tooltip": null,
       "value": 1.0
      }
     },
     "615f017b2e6d4bd29bb0864c4b513a26": {
      "model_module": "@jupyter-widgets/base",
      "model_module_version": "2.0.0",
      "model_name": "LayoutModel",
      "state": {
       "_model_module": "@jupyter-widgets/base",
       "_model_module_version": "2.0.0",
       "_model_name": "LayoutModel",
       "_view_count": null,
       "_view_module": "@jupyter-widgets/base",
       "_view_module_version": "2.0.0",
       "_view_name": "LayoutView",
       "align_content": null,
       "align_items": null,
       "align_self": null,
       "border_bottom": null,
       "border_left": null,
       "border_right": null,
       "border_top": null,
       "bottom": null,
       "display": null,
       "flex": null,
       "flex_flow": null,
       "grid_area": null,
       "grid_auto_columns": null,
       "grid_auto_flow": null,
       "grid_auto_rows": null,
       "grid_column": null,
       "grid_gap": null,
       "grid_row": null,
       "grid_template_areas": null,
       "grid_template_columns": null,
       "grid_template_rows": null,
       "height": null,
       "justify_content": null,
       "justify_items": null,
       "left": null,
       "margin": null,
       "max_height": null,
       "max_width": null,
       "min_height": null,
       "min_width": null,
       "object_fit": null,
       "object_position": null,
       "order": null,
       "overflow": null,
       "padding": null,
       "right": null,
       "top": null,
       "visibility": null,
       "width": null
      }
     },
     "6324eb502492469daaa3a04f99391834": {
      "model_module": "@jupyter-widgets/controls",
      "model_module_version": "2.0.0",
      "model_name": "HTMLStyleModel",
      "state": {
       "_model_module": "@jupyter-widgets/controls",
       "_model_module_version": "2.0.0",
       "_model_name": "HTMLStyleModel",
       "_view_count": null,
       "_view_module": "@jupyter-widgets/base",
       "_view_module_version": "2.0.0",
       "_view_name": "StyleView",
       "background": null,
       "description_width": "",
       "font_size": null,
       "text_color": null
      }
     },
     "641b2b29a638434a8f620c97e4919250": {
      "model_module": "@jupyter-widgets/base",
      "model_module_version": "2.0.0",
      "model_name": "LayoutModel",
      "state": {
       "_model_module": "@jupyter-widgets/base",
       "_model_module_version": "2.0.0",
       "_model_name": "LayoutModel",
       "_view_count": null,
       "_view_module": "@jupyter-widgets/base",
       "_view_module_version": "2.0.0",
       "_view_name": "LayoutView",
       "align_content": null,
       "align_items": null,
       "align_self": null,
       "border_bottom": null,
       "border_left": null,
       "border_right": null,
       "border_top": null,
       "bottom": null,
       "display": null,
       "flex": null,
       "flex_flow": null,
       "grid_area": null,
       "grid_auto_columns": null,
       "grid_auto_flow": null,
       "grid_auto_rows": null,
       "grid_column": null,
       "grid_gap": null,
       "grid_row": null,
       "grid_template_areas": null,
       "grid_template_columns": null,
       "grid_template_rows": null,
       "height": null,
       "justify_content": null,
       "justify_items": null,
       "left": null,
       "margin": null,
       "max_height": null,
       "max_width": null,
       "min_height": null,
       "min_width": null,
       "object_fit": null,
       "object_position": null,
       "order": null,
       "overflow": null,
       "padding": null,
       "right": null,
       "top": null,
       "visibility": null,
       "width": null
      }
     },
     "65aa10156d6c480fbd9cde9dc800b073": {
      "model_module": "@jupyter-widgets/controls",
      "model_module_version": "2.0.0",
      "model_name": "HTMLStyleModel",
      "state": {
       "_model_module": "@jupyter-widgets/controls",
       "_model_module_version": "2.0.0",
       "_model_name": "HTMLStyleModel",
       "_view_count": null,
       "_view_module": "@jupyter-widgets/base",
       "_view_module_version": "2.0.0",
       "_view_name": "StyleView",
       "background": null,
       "description_width": "",
       "font_size": null,
       "text_color": null
      }
     },
     "67a969e4ded249d8a53391e7e60b9603": {
      "model_module": "@jupyter-widgets/controls",
      "model_module_version": "2.0.0",
      "model_name": "HBoxModel",
      "state": {
       "_dom_classes": [],
       "_model_module": "@jupyter-widgets/controls",
       "_model_module_version": "2.0.0",
       "_model_name": "HBoxModel",
       "_view_count": null,
       "_view_module": "@jupyter-widgets/controls",
       "_view_module_version": "2.0.0",
       "_view_name": "HBoxView",
       "box_style": "",
       "children": [
        "IPY_MODEL_c2500515858647e3b16ac9adf3a1c8e7",
        "IPY_MODEL_fc73d46c51ad4c4b939173e59c609ac3",
        "IPY_MODEL_eb0550aa7ed1477c8b0b4d944b9997a5"
       ],
       "layout": "IPY_MODEL_641b2b29a638434a8f620c97e4919250",
       "tabbable": null,
       "tooltip": null
      }
     },
     "6bdb702ac1424d108fcf2686b7097c11": {
      "model_module": "@jupyter-widgets/controls",
      "model_module_version": "2.0.0",
      "model_name": "ProgressStyleModel",
      "state": {
       "_model_module": "@jupyter-widgets/controls",
       "_model_module_version": "2.0.0",
       "_model_name": "ProgressStyleModel",
       "_view_count": null,
       "_view_module": "@jupyter-widgets/base",
       "_view_module_version": "2.0.0",
       "_view_name": "StyleView",
       "bar_color": null,
       "description_width": ""
      }
     },
     "6ff23358f1134cd6af0d86e8e137cbb1": {
      "model_module": "@jupyter-widgets/controls",
      "model_module_version": "2.0.0",
      "model_name": "ProgressStyleModel",
      "state": {
       "_model_module": "@jupyter-widgets/controls",
       "_model_module_version": "2.0.0",
       "_model_name": "ProgressStyleModel",
       "_view_count": null,
       "_view_module": "@jupyter-widgets/base",
       "_view_module_version": "2.0.0",
       "_view_name": "StyleView",
       "bar_color": null,
       "description_width": ""
      }
     },
     "71fb6636fb1e4e378470fa1e24b008e3": {
      "model_module": "@jupyter-widgets/controls",
      "model_module_version": "2.0.0",
      "model_name": "HTMLModel",
      "state": {
       "_dom_classes": [],
       "_model_module": "@jupyter-widgets/controls",
       "_model_module_version": "2.0.0",
       "_model_name": "HTMLModel",
       "_view_count": null,
       "_view_module": "@jupyter-widgets/controls",
       "_view_module_version": "2.0.0",
       "_view_name": "HTMLView",
       "description": "",
       "description_allow_html": false,
       "layout": "IPY_MODEL_9344f1b39cc14a27a6ba98ae2d0cd50e",
       "placeholder": "​",
       "style": "IPY_MODEL_b7a5f8758361440aa8befe76826a7f6c",
       "tabbable": null,
       "tooltip": null,
       "value": "Computing checksums: 100%"
      }
     },
     "827453be53044a7794f1c487b2881a2f": {
      "model_module": "@jupyter-widgets/controls",
      "model_module_version": "2.0.0",
      "model_name": "HBoxModel",
      "state": {
       "_dom_classes": [],
       "_model_module": "@jupyter-widgets/controls",
       "_model_module_version": "2.0.0",
       "_model_name": "HBoxModel",
       "_view_count": null,
       "_view_module": "@jupyter-widgets/controls",
       "_view_module_version": "2.0.0",
       "_view_name": "HBoxView",
       "box_style": "",
       "children": [
        "IPY_MODEL_03032323c0fd46d0b22e29785c1c3120",
        "IPY_MODEL_95c8ce437c354a1696650415aa3815e5",
        "IPY_MODEL_eae10482ef9d4355b289bb1ece748bdf"
       ],
       "layout": "IPY_MODEL_c4998e4af9fc46c886516a7cbfb9d942",
       "tabbable": null,
       "tooltip": null
      }
     },
     "9344f1b39cc14a27a6ba98ae2d0cd50e": {
      "model_module": "@jupyter-widgets/base",
      "model_module_version": "2.0.0",
      "model_name": "LayoutModel",
      "state": {
       "_model_module": "@jupyter-widgets/base",
       "_model_module_version": "2.0.0",
       "_model_name": "LayoutModel",
       "_view_count": null,
       "_view_module": "@jupyter-widgets/base",
       "_view_module_version": "2.0.0",
       "_view_name": "LayoutView",
       "align_content": null,
       "align_items": null,
       "align_self": null,
       "border_bottom": null,
       "border_left": null,
       "border_right": null,
       "border_top": null,
       "bottom": null,
       "display": null,
       "flex": null,
       "flex_flow": null,
       "grid_area": null,
       "grid_auto_columns": null,
       "grid_auto_flow": null,
       "grid_auto_rows": null,
       "grid_column": null,
       "grid_gap": null,
       "grid_row": null,
       "grid_template_areas": null,
       "grid_template_columns": null,
       "grid_template_rows": null,
       "height": null,
       "justify_content": null,
       "justify_items": null,
       "left": null,
       "margin": null,
       "max_height": null,
       "max_width": null,
       "min_height": null,
       "min_width": null,
       "object_fit": null,
       "object_position": null,
       "order": null,
       "overflow": null,
       "padding": null,
       "right": null,
       "top": null,
       "visibility": null,
       "width": null
      }
     },
     "9387d4e8997b4403870355a39b2010ee": {
      "model_module": "@jupyter-widgets/base",
      "model_module_version": "2.0.0",
      "model_name": "LayoutModel",
      "state": {
       "_model_module": "@jupyter-widgets/base",
       "_model_module_version": "2.0.0",
       "_model_name": "LayoutModel",
       "_view_count": null,
       "_view_module": "@jupyter-widgets/base",
       "_view_module_version": "2.0.0",
       "_view_name": "LayoutView",
       "align_content": null,
       "align_items": null,
       "align_self": null,
       "border_bottom": null,
       "border_left": null,
       "border_right": null,
       "border_top": null,
       "bottom": null,
       "display": null,
       "flex": null,
       "flex_flow": null,
       "grid_area": null,
       "grid_auto_columns": null,
       "grid_auto_flow": null,
       "grid_auto_rows": null,
       "grid_column": null,
       "grid_gap": null,
       "grid_row": null,
       "grid_template_areas": null,
       "grid_template_columns": null,
       "grid_template_rows": null,
       "height": null,
       "justify_content": null,
       "justify_items": null,
       "left": null,
       "margin": null,
       "max_height": null,
       "max_width": null,
       "min_height": null,
       "min_width": null,
       "object_fit": null,
       "object_position": null,
       "order": null,
       "overflow": null,
       "padding": null,
       "right": null,
       "top": null,
       "visibility": null,
       "width": null
      }
     },
     "95c8ce437c354a1696650415aa3815e5": {
      "model_module": "@jupyter-widgets/controls",
      "model_module_version": "2.0.0",
      "model_name": "FloatProgressModel",
      "state": {
       "_dom_classes": [],
       "_model_module": "@jupyter-widgets/controls",
       "_model_module_version": "2.0.0",
       "_model_name": "FloatProgressModel",
       "_view_count": null,
       "_view_module": "@jupyter-widgets/controls",
       "_view_module_version": "2.0.0",
       "_view_name": "ProgressView",
       "bar_style": "success",
       "description": "",
       "description_allow_html": false,
       "layout": "IPY_MODEL_0fca4799c0b04337bfce21b64b148c6c",
       "max": 1.0,
       "min": 0.0,
       "orientation": "horizontal",
       "style": "IPY_MODEL_6ff23358f1134cd6af0d86e8e137cbb1",
       "tabbable": null,
       "tooltip": null,
       "value": 1.0
      }
     },
     "9e797ff2edcd42ae97188539a64cd3bb": {
      "model_module": "@jupyter-widgets/base",
      "model_module_version": "2.0.0",
      "model_name": "LayoutModel",
      "state": {
       "_model_module": "@jupyter-widgets/base",
       "_model_module_version": "2.0.0",
       "_model_name": "LayoutModel",
       "_view_count": null,
       "_view_module": "@jupyter-widgets/base",
       "_view_module_version": "2.0.0",
       "_view_name": "LayoutView",
       "align_content": null,
       "align_items": null,
       "align_self": null,
       "border_bottom": null,
       "border_left": null,
       "border_right": null,
       "border_top": null,
       "bottom": null,
       "display": null,
       "flex": null,
       "flex_flow": null,
       "grid_area": null,
       "grid_auto_columns": null,
       "grid_auto_flow": null,
       "grid_auto_rows": null,
       "grid_column": null,
       "grid_gap": null,
       "grid_row": null,
       "grid_template_areas": null,
       "grid_template_columns": null,
       "grid_template_rows": null,
       "height": null,
       "justify_content": null,
       "justify_items": null,
       "left": null,
       "margin": null,
       "max_height": null,
       "max_width": null,
       "min_height": null,
       "min_width": null,
       "object_fit": null,
       "object_position": null,
       "order": null,
       "overflow": null,
       "padding": null,
       "right": null,
       "top": null,
       "visibility": null,
       "width": null
      }
     },
     "a2535c4ce8364307b293f40417ec9349": {
      "model_module": "@jupyter-widgets/controls",
      "model_module_version": "2.0.0",
      "model_name": "HBoxModel",
      "state": {
       "_dom_classes": [],
       "_model_module": "@jupyter-widgets/controls",
       "_model_module_version": "2.0.0",
       "_model_name": "HBoxModel",
       "_view_count": null,
       "_view_module": "@jupyter-widgets/controls",
       "_view_module_version": "2.0.0",
       "_view_name": "HBoxView",
       "box_style": "",
       "children": [
        "IPY_MODEL_0aea9d14dcff434aa239a15ef50b3367",
        "IPY_MODEL_54b7bcb79fa14a068c141149a75a707b",
        "IPY_MODEL_3483ff44db1446b889bbfeccf82e491c"
       ],
       "layout": "IPY_MODEL_f8296920383e457b8233eb8ff93822fc",
       "tabbable": null,
       "tooltip": null
      }
     },
     "a6f2f309ee334bc1a60562e9b6c87898": {
      "model_module": "@jupyter-widgets/base",
      "model_module_version": "2.0.0",
      "model_name": "LayoutModel",
      "state": {
       "_model_module": "@jupyter-widgets/base",
       "_model_module_version": "2.0.0",
       "_model_name": "LayoutModel",
       "_view_count": null,
       "_view_module": "@jupyter-widgets/base",
       "_view_module_version": "2.0.0",
       "_view_name": "LayoutView",
       "align_content": null,
       "align_items": null,
       "align_self": null,
       "border_bottom": null,
       "border_left": null,
       "border_right": null,
       "border_top": null,
       "bottom": null,
       "display": null,
       "flex": null,
       "flex_flow": null,
       "grid_area": null,
       "grid_auto_columns": null,
       "grid_auto_flow": null,
       "grid_auto_rows": null,
       "grid_column": null,
       "grid_gap": null,
       "grid_row": null,
       "grid_template_areas": null,
       "grid_template_columns": null,
       "grid_template_rows": null,
       "height": null,
       "justify_content": null,
       "justify_items": null,
       "left": null,
       "margin": null,
       "max_height": null,
       "max_width": null,
       "min_height": null,
       "min_width": null,
       "object_fit": null,
       "object_position": null,
       "order": null,
       "overflow": null,
       "padding": null,
       "right": null,
       "top": null,
       "visibility": null,
       "width": null
      }
     },
     "a7529edfa0dd45de8127216668091635": {
      "model_module": "@jupyter-widgets/base",
      "model_module_version": "2.0.0",
      "model_name": "LayoutModel",
      "state": {
       "_model_module": "@jupyter-widgets/base",
       "_model_module_version": "2.0.0",
       "_model_name": "LayoutModel",
       "_view_count": null,
       "_view_module": "@jupyter-widgets/base",
       "_view_module_version": "2.0.0",
       "_view_name": "LayoutView",
       "align_content": null,
       "align_items": null,
       "align_self": null,
       "border_bottom": null,
       "border_left": null,
       "border_right": null,
       "border_top": null,
       "bottom": null,
       "display": null,
       "flex": null,
       "flex_flow": null,
       "grid_area": null,
       "grid_auto_columns": null,
       "grid_auto_flow": null,
       "grid_auto_rows": null,
       "grid_column": null,
       "grid_gap": null,
       "grid_row": null,
       "grid_template_areas": null,
       "grid_template_columns": null,
       "grid_template_rows": null,
       "height": null,
       "justify_content": null,
       "justify_items": null,
       "left": null,
       "margin": null,
       "max_height": null,
       "max_width": null,
       "min_height": null,
       "min_width": null,
       "object_fit": null,
       "object_position": null,
       "order": null,
       "overflow": null,
       "padding": null,
       "right": null,
       "top": null,
       "visibility": null,
       "width": null
      }
     },
     "abe22ab4861b438eb6a03a02dd094a13": {
      "model_module": "@jupyter-widgets/controls",
      "model_module_version": "2.0.0",
      "model_name": "HTMLStyleModel",
      "state": {
       "_model_module": "@jupyter-widgets/controls",
       "_model_module_version": "2.0.0",
       "_model_name": "HTMLStyleModel",
       "_view_count": null,
       "_view_module": "@jupyter-widgets/base",
       "_view_module_version": "2.0.0",
       "_view_name": "StyleView",
       "background": null,
       "description_width": "",
       "font_size": null,
       "text_color": null
      }
     },
     "b4cae43cafbc439fbf6271e1d1b74ed7": {
      "model_module": "@jupyter-widgets/base",
      "model_module_version": "2.0.0",
      "model_name": "LayoutModel",
      "state": {
       "_model_module": "@jupyter-widgets/base",
       "_model_module_version": "2.0.0",
       "_model_name": "LayoutModel",
       "_view_count": null,
       "_view_module": "@jupyter-widgets/base",
       "_view_module_version": "2.0.0",
       "_view_name": "LayoutView",
       "align_content": null,
       "align_items": null,
       "align_self": null,
       "border_bottom": null,
       "border_left": null,
       "border_right": null,
       "border_top": null,
       "bottom": null,
       "display": null,
       "flex": null,
       "flex_flow": null,
       "grid_area": null,
       "grid_auto_columns": null,
       "grid_auto_flow": null,
       "grid_auto_rows": null,
       "grid_column": null,
       "grid_gap": null,
       "grid_row": null,
       "grid_template_areas": null,
       "grid_template_columns": null,
       "grid_template_rows": null,
       "height": null,
       "justify_content": null,
       "justify_items": null,
       "left": null,
       "margin": null,
       "max_height": null,
       "max_width": null,
       "min_height": null,
       "min_width": null,
       "object_fit": null,
       "object_position": null,
       "order": null,
       "overflow": null,
       "padding": null,
       "right": null,
       "top": null,
       "visibility": null,
       "width": null
      }
     },
     "b6e68fee42674912a2d3b714026c7aaa": {
      "model_module": "@jupyter-widgets/base",
      "model_module_version": "2.0.0",
      "model_name": "LayoutModel",
      "state": {
       "_model_module": "@jupyter-widgets/base",
       "_model_module_version": "2.0.0",
       "_model_name": "LayoutModel",
       "_view_count": null,
       "_view_module": "@jupyter-widgets/base",
       "_view_module_version": "2.0.0",
       "_view_name": "LayoutView",
       "align_content": null,
       "align_items": null,
       "align_self": null,
       "border_bottom": null,
       "border_left": null,
       "border_right": null,
       "border_top": null,
       "bottom": null,
       "display": null,
       "flex": null,
       "flex_flow": null,
       "grid_area": null,
       "grid_auto_columns": null,
       "grid_auto_flow": null,
       "grid_auto_rows": null,
       "grid_column": null,
       "grid_gap": null,
       "grid_row": null,
       "grid_template_areas": null,
       "grid_template_columns": null,
       "grid_template_rows": null,
       "height": null,
       "justify_content": null,
       "justify_items": null,
       "left": null,
       "margin": null,
       "max_height": null,
       "max_width": null,
       "min_height": null,
       "min_width": null,
       "object_fit": null,
       "object_position": null,
       "order": null,
       "overflow": null,
       "padding": null,
       "right": null,
       "top": null,
       "visibility": null,
       "width": null
      }
     },
     "b7a5f8758361440aa8befe76826a7f6c": {
      "model_module": "@jupyter-widgets/controls",
      "model_module_version": "2.0.0",
      "model_name": "HTMLStyleModel",
      "state": {
       "_model_module": "@jupyter-widgets/controls",
       "_model_module_version": "2.0.0",
       "_model_name": "HTMLStyleModel",
       "_view_count": null,
       "_view_module": "@jupyter-widgets/base",
       "_view_module_version": "2.0.0",
       "_view_name": "StyleView",
       "background": null,
       "description_width": "",
       "font_size": null,
       "text_color": null
      }
     },
     "bd586f7f0d1b4f4e90c2ef145c88c3ff": {
      "model_module": "@jupyter-widgets/controls",
      "model_module_version": "2.0.0",
      "model_name": "FloatProgressModel",
      "state": {
       "_dom_classes": [],
       "_model_module": "@jupyter-widgets/controls",
       "_model_module_version": "2.0.0",
       "_model_name": "FloatProgressModel",
       "_view_count": null,
       "_view_module": "@jupyter-widgets/controls",
       "_view_module_version": "2.0.0",
       "_view_name": "ProgressView",
       "bar_style": "success",
       "description": "",
       "description_allow_html": false,
       "layout": "IPY_MODEL_9387d4e8997b4403870355a39b2010ee",
       "max": 17.0,
       "min": 0.0,
       "orientation": "horizontal",
       "style": "IPY_MODEL_2290b186d3bb4610a1e07d4581e004be",
       "tabbable": null,
       "tooltip": null,
       "value": 17.0
      }
     },
     "c20d5c2e8bd64101b89c107ad8663bb3": {
      "model_module": "@jupyter-widgets/controls",
      "model_module_version": "2.0.0",
      "model_name": "ProgressStyleModel",
      "state": {
       "_model_module": "@jupyter-widgets/controls",
       "_model_module_version": "2.0.0",
       "_model_name": "ProgressStyleModel",
       "_view_count": null,
       "_view_module": "@jupyter-widgets/base",
       "_view_module_version": "2.0.0",
       "_view_name": "StyleView",
       "bar_color": null,
       "description_width": ""
      }
     },
     "c2500515858647e3b16ac9adf3a1c8e7": {
      "model_module": "@jupyter-widgets/controls",
      "model_module_version": "2.0.0",
      "model_name": "HTMLModel",
      "state": {
       "_dom_classes": [],
       "_model_module": "@jupyter-widgets/controls",
       "_model_module_version": "2.0.0",
       "_model_name": "HTMLModel",
       "_view_count": null,
       "_view_module": "@jupyter-widgets/controls",
       "_view_module_version": "2.0.0",
       "_view_name": "HTMLView",
       "description": "",
       "description_allow_html": false,
       "layout": "IPY_MODEL_b6e68fee42674912a2d3b714026c7aaa",
       "placeholder": "​",
       "style": "IPY_MODEL_1a47833ab4554660893f54be6b7df66f",
       "tabbable": null,
       "tooltip": null,
       "value": "Goodreads-Books.csv: 100%"
      }
     },
     "c4998e4af9fc46c886516a7cbfb9d942": {
      "model_module": "@jupyter-widgets/base",
      "model_module_version": "2.0.0",
      "model_name": "LayoutModel",
      "state": {
       "_model_module": "@jupyter-widgets/base",
       "_model_module_version": "2.0.0",
       "_model_name": "LayoutModel",
       "_view_count": null,
       "_view_module": "@jupyter-widgets/base",
       "_view_module_version": "2.0.0",
       "_view_name": "LayoutView",
       "align_content": null,
       "align_items": null,
       "align_self": null,
       "border_bottom": null,
       "border_left": null,
       "border_right": null,
       "border_top": null,
       "bottom": null,
       "display": null,
       "flex": null,
       "flex_flow": null,
       "grid_area": null,
       "grid_auto_columns": null,
       "grid_auto_flow": null,
       "grid_auto_rows": null,
       "grid_column": null,
       "grid_gap": null,
       "grid_row": null,
       "grid_template_areas": null,
       "grid_template_columns": null,
       "grid_template_rows": null,
       "height": null,
       "justify_content": null,
       "justify_items": null,
       "left": null,
       "margin": null,
       "max_height": null,
       "max_width": null,
       "min_height": null,
       "min_width": null,
       "object_fit": null,
       "object_position": null,
       "order": null,
       "overflow": null,
       "padding": null,
       "right": null,
       "top": null,
       "visibility": null,
       "width": null
      }
     },
     "c6a2d4e68ad54a7f8acff4d8474ac69e": {
      "model_module": "@jupyter-widgets/base",
      "model_module_version": "2.0.0",
      "model_name": "LayoutModel",
      "state": {
       "_model_module": "@jupyter-widgets/base",
       "_model_module_version": "2.0.0",
       "_model_name": "LayoutModel",
       "_view_count": null,
       "_view_module": "@jupyter-widgets/base",
       "_view_module_version": "2.0.0",
       "_view_name": "LayoutView",
       "align_content": null,
       "align_items": null,
       "align_self": null,
       "border_bottom": null,
       "border_left": null,
       "border_right": null,
       "border_top": null,
       "bottom": null,
       "display": null,
       "flex": null,
       "flex_flow": null,
       "grid_area": null,
       "grid_auto_columns": null,
       "grid_auto_flow": null,
       "grid_auto_rows": null,
       "grid_column": null,
       "grid_gap": null,
       "grid_row": null,
       "grid_template_areas": null,
       "grid_template_columns": null,
       "grid_template_rows": null,
       "height": null,
       "justify_content": null,
       "justify_items": null,
       "left": null,
       "margin": null,
       "max_height": null,
       "max_width": null,
       "min_height": null,
       "min_width": null,
       "object_fit": null,
       "object_position": null,
       "order": null,
       "overflow": null,
       "padding": null,
       "right": null,
       "top": null,
       "visibility": null,
       "width": null
      }
     },
     "c6a8f248735c4e659aceb95146221215": {
      "model_module": "@jupyter-widgets/controls",
      "model_module_version": "2.0.0",
      "model_name": "FloatProgressModel",
      "state": {
       "_dom_classes": [],
       "_model_module": "@jupyter-widgets/controls",
       "_model_module_version": "2.0.0",
       "_model_name": "FloatProgressModel",
       "_view_count": null,
       "_view_module": "@jupyter-widgets/controls",
       "_view_module_version": "2.0.0",
       "_view_name": "ProgressView",
       "bar_style": "success",
       "description": "",
       "description_allow_html": false,
       "layout": "IPY_MODEL_ce405fe88983426486bac84bf50bdf6e",
       "max": 1.0,
       "min": 0.0,
       "orientation": "horizontal",
       "style": "IPY_MODEL_c20d5c2e8bd64101b89c107ad8663bb3",
       "tabbable": null,
       "tooltip": null,
       "value": 1.0
      }
     },
     "c7cb042fbf8d4a98a121b62491e78e66": {
      "model_module": "@jupyter-widgets/base",
      "model_module_version": "2.0.0",
      "model_name": "LayoutModel",
      "state": {
       "_model_module": "@jupyter-widgets/base",
       "_model_module_version": "2.0.0",
       "_model_name": "LayoutModel",
       "_view_count": null,
       "_view_module": "@jupyter-widgets/base",
       "_view_module_version": "2.0.0",
       "_view_name": "LayoutView",
       "align_content": null,
       "align_items": null,
       "align_self": null,
       "border_bottom": null,
       "border_left": null,
       "border_right": null,
       "border_top": null,
       "bottom": null,
       "display": null,
       "flex": null,
       "flex_flow": null,
       "grid_area": null,
       "grid_auto_columns": null,
       "grid_auto_flow": null,
       "grid_auto_rows": null,
       "grid_column": null,
       "grid_gap": null,
       "grid_row": null,
       "grid_template_areas": null,
       "grid_template_columns": null,
       "grid_template_rows": null,
       "height": null,
       "justify_content": null,
       "justify_items": null,
       "left": null,
       "margin": null,
       "max_height": null,
       "max_width": null,
       "min_height": null,
       "min_width": null,
       "object_fit": null,
       "object_position": null,
       "order": null,
       "overflow": null,
       "padding": null,
       "right": null,
       "top": null,
       "visibility": null,
       "width": null
      }
     },
     "cca4cf4954924282a1c548b7a4e26a03": {
      "model_module": "@jupyter-widgets/controls",
      "model_module_version": "2.0.0",
      "model_name": "HTMLModel",
      "state": {
       "_dom_classes": [],
       "_model_module": "@jupyter-widgets/controls",
       "_model_module_version": "2.0.0",
       "_model_name": "HTMLModel",
       "_view_count": null,
       "_view_module": "@jupyter-widgets/controls",
       "_view_module_version": "2.0.0",
       "_view_name": "HTMLView",
       "description": "",
       "description_allow_html": false,
       "layout": "IPY_MODEL_a6f2f309ee334bc1a60562e9b6c87898",
       "placeholder": "​",
       "style": "IPY_MODEL_ef8890c4cb7d4fc986d990c9e457ecba",
       "tabbable": null,
       "tooltip": null,
       "value": " 1/1 [00:00&lt;00:00, 157.83it/s]"
      }
     },
     "ce405fe88983426486bac84bf50bdf6e": {
      "model_module": "@jupyter-widgets/base",
      "model_module_version": "2.0.0",
      "model_name": "LayoutModel",
      "state": {
       "_model_module": "@jupyter-widgets/base",
       "_model_module_version": "2.0.0",
       "_model_name": "LayoutModel",
       "_view_count": null,
       "_view_module": "@jupyter-widgets/base",
       "_view_module_version": "2.0.0",
       "_view_name": "LayoutView",
       "align_content": null,
       "align_items": null,
       "align_self": null,
       "border_bottom": null,
       "border_left": null,
       "border_right": null,
       "border_top": null,
       "bottom": null,
       "display": null,
       "flex": null,
       "flex_flow": null,
       "grid_area": null,
       "grid_auto_columns": null,
       "grid_auto_flow": null,
       "grid_auto_rows": null,
       "grid_column": null,
       "grid_gap": null,
       "grid_row": null,
       "grid_template_areas": null,
       "grid_template_columns": null,
       "grid_template_rows": null,
       "height": null,
       "justify_content": null,
       "justify_items": null,
       "left": null,
       "margin": null,
       "max_height": null,
       "max_width": null,
       "min_height": null,
       "min_width": null,
       "object_fit": null,
       "object_position": null,
       "order": null,
       "overflow": null,
       "padding": null,
       "right": null,
       "top": null,
       "visibility": null,
       "width": null
      }
     },
     "d22f2dfbbab543e09c4bf5a9b1c78287": {
      "model_module": "@jupyter-widgets/base",
      "model_module_version": "2.0.0",
      "model_name": "LayoutModel",
      "state": {
       "_model_module": "@jupyter-widgets/base",
       "_model_module_version": "2.0.0",
       "_model_name": "LayoutModel",
       "_view_count": null,
       "_view_module": "@jupyter-widgets/base",
       "_view_module_version": "2.0.0",
       "_view_name": "LayoutView",
       "align_content": null,
       "align_items": null,
       "align_self": null,
       "border_bottom": null,
       "border_left": null,
       "border_right": null,
       "border_top": null,
       "bottom": null,
       "display": null,
       "flex": null,
       "flex_flow": null,
       "grid_area": null,
       "grid_auto_columns": null,
       "grid_auto_flow": null,
       "grid_auto_rows": null,
       "grid_column": null,
       "grid_gap": null,
       "grid_row": null,
       "grid_template_areas": null,
       "grid_template_columns": null,
       "grid_template_rows": null,
       "height": null,
       "justify_content": null,
       "justify_items": null,
       "left": null,
       "margin": null,
       "max_height": null,
       "max_width": null,
       "min_height": null,
       "min_width": null,
       "object_fit": null,
       "object_position": null,
       "order": null,
       "overflow": null,
       "padding": null,
       "right": null,
       "top": null,
       "visibility": null,
       "width": "20px"
      }
     },
     "e45871a67ecf4f7d9cf80c311deaddce": {
      "model_module": "@jupyter-widgets/base",
      "model_module_version": "2.0.0",
      "model_name": "LayoutModel",
      "state": {
       "_model_module": "@jupyter-widgets/base",
       "_model_module_version": "2.0.0",
       "_model_name": "LayoutModel",
       "_view_count": null,
       "_view_module": "@jupyter-widgets/base",
       "_view_module_version": "2.0.0",
       "_view_name": "LayoutView",
       "align_content": null,
       "align_items": null,
       "align_self": null,
       "border_bottom": null,
       "border_left": null,
       "border_right": null,
       "border_top": null,
       "bottom": null,
       "display": null,
       "flex": null,
       "flex_flow": null,
       "grid_area": null,
       "grid_auto_columns": null,
       "grid_auto_flow": null,
       "grid_auto_rows": null,
       "grid_column": null,
       "grid_gap": null,
       "grid_row": null,
       "grid_template_areas": null,
       "grid_template_columns": null,
       "grid_template_rows": null,
       "height": null,
       "justify_content": null,
       "justify_items": null,
       "left": null,
       "margin": null,
       "max_height": null,
       "max_width": null,
       "min_height": null,
       "min_width": null,
       "object_fit": null,
       "object_position": null,
       "order": null,
       "overflow": null,
       "padding": null,
       "right": null,
       "top": null,
       "visibility": null,
       "width": null
      }
     },
     "eae10482ef9d4355b289bb1ece748bdf": {
      "model_module": "@jupyter-widgets/controls",
      "model_module_version": "2.0.0",
      "model_name": "HTMLModel",
      "state": {
       "_dom_classes": [],
       "_model_module": "@jupyter-widgets/controls",
       "_model_module_version": "2.0.0",
       "_model_name": "HTMLModel",
       "_view_count": null,
       "_view_module": "@jupyter-widgets/controls",
       "_view_module_version": "2.0.0",
       "_view_name": "HTMLView",
       "description": "",
       "description_allow_html": false,
       "layout": "IPY_MODEL_615f017b2e6d4bd29bb0864c4b513a26",
       "placeholder": "​",
       "style": "IPY_MODEL_f3aba78e5e2947ce9f2eb1734675e0f4",
       "tabbable": null,
       "tooltip": null,
       "value": " 8.23k/? [00:00&lt;00:00, 591kB/s]"
      }
     },
     "eb0550aa7ed1477c8b0b4d944b9997a5": {
      "model_module": "@jupyter-widgets/controls",
      "model_module_version": "2.0.0",
      "model_name": "HTMLModel",
      "state": {
       "_dom_classes": [],
       "_model_module": "@jupyter-widgets/controls",
       "_model_module_version": "2.0.0",
       "_model_name": "HTMLModel",
       "_view_count": null,
       "_view_module": "@jupyter-widgets/controls",
       "_view_module_version": "2.0.0",
       "_view_name": "HTMLView",
       "description": "",
       "description_allow_html": false,
       "layout": "IPY_MODEL_03dfc1c81dc247b3a4c21e056eec0bf0",
       "placeholder": "​",
       "style": "IPY_MODEL_2f06885208d94b0f93cfa81d9b966f07",
       "tabbable": null,
       "tooltip": null,
       "value": " 8.29G/8.29G [00:38&lt;00:00, 305MB/s]"
      }
     },
     "ef8890c4cb7d4fc986d990c9e457ecba": {
      "model_module": "@jupyter-widgets/controls",
      "model_module_version": "2.0.0",
      "model_name": "HTMLStyleModel",
      "state": {
       "_model_module": "@jupyter-widgets/controls",
       "_model_module_version": "2.0.0",
       "_model_name": "HTMLStyleModel",
       "_view_count": null,
       "_view_module": "@jupyter-widgets/base",
       "_view_module_version": "2.0.0",
       "_view_name": "StyleView",
       "background": null,
       "description_width": "",
       "font_size": null,
       "text_color": null
      }
     },
     "efc2b08e03264918a39cdd66f31584df": {
      "model_module": "@jupyter-widgets/controls",
      "model_module_version": "2.0.0",
      "model_name": "ProgressStyleModel",
      "state": {
       "_model_module": "@jupyter-widgets/controls",
       "_model_module_version": "2.0.0",
       "_model_name": "ProgressStyleModel",
       "_view_count": null,
       "_view_module": "@jupyter-widgets/base",
       "_view_module_version": "2.0.0",
       "_view_name": "StyleView",
       "bar_color": null,
       "description_width": ""
      }
     },
     "f0800e174f61445ca56a255c7994e35b": {
      "model_module": "@jupyter-widgets/controls",
      "model_module_version": "2.0.0",
      "model_name": "HBoxModel",
      "state": {
       "_dom_classes": [],
       "_model_module": "@jupyter-widgets/controls",
       "_model_module_version": "2.0.0",
       "_model_name": "HBoxModel",
       "_view_count": null,
       "_view_module": "@jupyter-widgets/controls",
       "_view_module_version": "2.0.0",
       "_view_name": "HBoxView",
       "box_style": "",
       "children": [
        "IPY_MODEL_0ae9538045af45a0bd9b0315922eef08",
        "IPY_MODEL_bd586f7f0d1b4f4e90c2ef145c88c3ff",
        "IPY_MODEL_2e526cfdaef54873a6b10194c9e62cbc"
       ],
       "layout": "IPY_MODEL_e45871a67ecf4f7d9cf80c311deaddce",
       "tabbable": null,
       "tooltip": null
      }
     },
     "f3aba78e5e2947ce9f2eb1734675e0f4": {
      "model_module": "@jupyter-widgets/controls",
      "model_module_version": "2.0.0",
      "model_name": "HTMLStyleModel",
      "state": {
       "_model_module": "@jupyter-widgets/controls",
       "_model_module_version": "2.0.0",
       "_model_name": "HTMLStyleModel",
       "_view_count": null,
       "_view_module": "@jupyter-widgets/base",
       "_view_module_version": "2.0.0",
       "_view_name": "StyleView",
       "background": null,
       "description_width": "",
       "font_size": null,
       "text_color": null
      }
     },
     "f8296920383e457b8233eb8ff93822fc": {
      "model_module": "@jupyter-widgets/base",
      "model_module_version": "2.0.0",
      "model_name": "LayoutModel",
      "state": {
       "_model_module": "@jupyter-widgets/base",
       "_model_module_version": "2.0.0",
       "_model_name": "LayoutModel",
       "_view_count": null,
       "_view_module": "@jupyter-widgets/base",
       "_view_module_version": "2.0.0",
       "_view_name": "LayoutView",
       "align_content": null,
       "align_items": null,
       "align_self": null,
       "border_bottom": null,
       "border_left": null,
       "border_right": null,
       "border_top": null,
       "bottom": null,
       "display": null,
       "flex": null,
       "flex_flow": null,
       "grid_area": null,
       "grid_auto_columns": null,
       "grid_auto_flow": null,
       "grid_auto_rows": null,
       "grid_column": null,
       "grid_gap": null,
       "grid_row": null,
       "grid_template_areas": null,
       "grid_template_columns": null,
       "grid_template_rows": null,
       "height": null,
       "justify_content": null,
       "justify_items": null,
       "left": null,
       "margin": null,
       "max_height": null,
       "max_width": null,
       "min_height": null,
       "min_width": null,
       "object_fit": null,
       "object_position": null,
       "order": null,
       "overflow": null,
       "padding": null,
       "right": null,
       "top": null,
       "visibility": null,
       "width": null
      }
     },
     "fc73d46c51ad4c4b939173e59c609ac3": {
      "model_module": "@jupyter-widgets/controls",
      "model_module_version": "2.0.0",
      "model_name": "FloatProgressModel",
      "state": {
       "_dom_classes": [],
       "_model_module": "@jupyter-widgets/controls",
       "_model_module_version": "2.0.0",
       "_model_name": "FloatProgressModel",
       "_view_count": null,
       "_view_module": "@jupyter-widgets/controls",
       "_view_module_version": "2.0.0",
       "_view_name": "ProgressView",
       "bar_style": "success",
       "description": "",
       "description_allow_html": false,
       "layout": "IPY_MODEL_c7cb042fbf8d4a98a121b62491e78e66",
       "max": 8294652808.0,
       "min": 0.0,
       "orientation": "horizontal",
       "style": "IPY_MODEL_6bdb702ac1424d108fcf2686b7097c11",
       "tabbable": null,
       "tooltip": null,
       "value": 8294652808.0
      }
     },
     "fd8ca1911ee9455a9628e05b608a3cb6": {
      "model_module": "@jupyter-widgets/base",
      "model_module_version": "2.0.0",
      "model_name": "LayoutModel",
      "state": {
       "_model_module": "@jupyter-widgets/base",
       "_model_module_version": "2.0.0",
       "_model_name": "LayoutModel",
       "_view_count": null,
       "_view_module": "@jupyter-widgets/base",
       "_view_module_version": "2.0.0",
       "_view_name": "LayoutView",
       "align_content": null,
       "align_items": null,
       "align_self": null,
       "border_bottom": null,
       "border_left": null,
       "border_right": null,
       "border_top": null,
       "bottom": null,
       "display": null,
       "flex": null,
       "flex_flow": null,
       "grid_area": null,
       "grid_auto_columns": null,
       "grid_auto_flow": null,
       "grid_auto_rows": null,
       "grid_column": null,
       "grid_gap": null,
       "grid_row": null,
       "grid_template_areas": null,
       "grid_template_columns": null,
       "grid_template_rows": null,
       "height": null,
       "justify_content": null,
       "justify_items": null,
       "left": null,
       "margin": null,
       "max_height": null,
       "max_width": null,
       "min_height": null,
       "min_width": null,
       "object_fit": null,
       "object_position": null,
       "order": null,
       "overflow": null,
       "padding": null,
       "right": null,
       "top": null,
       "visibility": null,
       "width": null
      }
     }
    },
    "version_major": 2,
    "version_minor": 0
   }
  }
 },
 "nbformat": 4,
 "nbformat_minor": 5
}
