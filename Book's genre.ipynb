{
 "cells": [
  {
   "cell_type": "markdown",
   "id": "6e645690",
   "metadata": {
    "papermill": {
     "duration": 0.00707,
     "end_time": "2025-07-16T17:56:55.961112",
     "exception": false,
     "start_time": "2025-07-16T17:56:55.954042",
     "status": "completed"
    },
    "tags": []
   },
   "source": [
    "# 📚 Discovering Book Micro-Genres with Unsupervised Learning\n",
    "\n",
    "The goal is to identify hidden micro-genres by clustering books based on the words in their descriptions. \n",
    "Using unsupervised learning and KMeans clustering, we group similar books without relying on labeled genres. \n",
    "Descriptions are transformed into numerical features using TF-IDF vectorization.\n"
   ]
  },
  {
   "cell_type": "markdown",
   "id": "a177ab23",
   "metadata": {
    "papermill": {
     "duration": 0.005366,
     "end_time": "2025-07-16T17:56:55.972802",
     "exception": false,
     "start_time": "2025-07-16T17:56:55.967436",
     "status": "completed"
    },
    "tags": []
   },
   "source": [
    "## 🔍 Step 1: Define the Problem\n",
    "\n",
    "Can we find clusters of similar books based on the presence of common words in their descriptions?\n",
    "\n",
    "This task is suitable for **unsupervised learning** because we don't have labeled genres.\n"
   ]
  },
  {
   "cell_type": "code",
   "execution_count": 1,
   "id": "3a41775c",
   "metadata": {
    "execution": {
     "iopub.execute_input": "2025-07-16T17:56:55.985519Z",
     "iopub.status.busy": "2025-07-16T17:56:55.985163Z",
     "iopub.status.idle": "2025-07-16T17:57:15.779890Z",
     "shell.execute_reply": "2025-07-16T17:57:15.778325Z"
    },
    "papermill": {
     "duration": 19.80362,
     "end_time": "2025-07-16T17:57:15.781968",
     "exception": false,
     "start_time": "2025-07-16T17:56:55.978348",
     "status": "completed"
    },
    "tags": []
   },
   "outputs": [
    {
     "name": "stdout",
     "output_type": "stream",
     "text": [
      "Collecting langdetect\r\n",
      "  Downloading langdetect-1.0.9.tar.gz (981 kB)\r\n",
      "\u001b[2K     \u001b[90m━━━━━━━━━━━━━━━━━━━━━━━━━━━━━━━━━━━━━━\u001b[0m \u001b[32m981.5/981.5 kB\u001b[0m \u001b[31m11.9 MB/s\u001b[0m eta \u001b[36m0:00:00\u001b[0m\r\n",
      "\u001b[?25h  Preparing metadata (setup.py) ... \u001b[?25l\u001b[?25hdone\r\n",
      "Requirement already satisfied: six in /usr/local/lib/python3.11/dist-packages (from langdetect) (1.17.0)\r\n",
      "Building wheels for collected packages: langdetect\r\n",
      "  Building wheel for langdetect (setup.py) ... \u001b[?25l\u001b[?25hdone\r\n",
      "  Created wheel for langdetect: filename=langdetect-1.0.9-py3-none-any.whl size=993223 sha256=d92062c135572aa0c268a5a22c2e4ae5f35c1192ce8a3b335910cf7dbcb02765\r\n",
      "  Stored in directory: /root/.cache/pip/wheels/0a/f2/b2/e5ca405801e05eb7c8ed5b3b4bcf1fcabcd6272c167640072e\r\n",
      "Successfully built langdetect\r\n",
      "Installing collected packages: langdetect\r\n",
      "Successfully installed langdetect-1.0.9\r\n"
     ]
    }
   ],
   "source": [
    "# Necessary libraries\n",
    "\n",
    "import numpy as np \n",
    "import pandas as pd \n",
    "import matplotlib.pyplot as plt \n",
    "import seaborn as sns\n",
    "import string\n",
    "import re\n",
    "\n",
    "import nltk\n",
    "from nltk.corpus import stopwords\n",
    "from nltk.stem import WordNetLemmatizer\n",
    "from nltk.tokenize import word_tokenize\n",
    "\n",
    "from sklearn.feature_extraction.text import TfidfVectorizer\n",
    "from sklearn.cluster import KMeans\n",
    "from sklearn.metrics import silhouette_score\n",
    "from sklearn.decomposition import PCA\n",
    "\n",
    "from datasets import load_dataset\n",
    "\n",
    "!pip install langdetect\n",
    "from langdetect import detect, LangDetectException"
   ]
  },
  {
   "cell_type": "markdown",
   "id": "5b9273cd",
   "metadata": {
    "papermill": {
     "duration": 0.005828,
     "end_time": "2025-07-16T17:57:15.794840",
     "exception": false,
     "start_time": "2025-07-16T17:57:15.789012",
     "status": "completed"
    },
    "tags": []
   },
   "source": [
    "## 📂 Step 2: Load and Explore the Data\n",
    "\n",
    "We use a book dataset with fields like title, author, and summary.\n",
    "Only the `title` and `summary` columns are used for clustering.\n",
    "\n",
    "Below is a sample of the data and basic info:\n"
   ]
  },
  {
   "cell_type": "code",
   "execution_count": 2,
   "id": "685db4e7",
   "metadata": {
    "execution": {
     "iopub.execute_input": "2025-07-16T17:57:15.809091Z",
     "iopub.status.busy": "2025-07-16T17:57:15.807980Z",
     "iopub.status.idle": "2025-07-16T18:01:44.495968Z",
     "shell.execute_reply": "2025-07-16T18:01:44.494350Z"
    },
    "papermill": {
     "duration": 268.697798,
     "end_time": "2025-07-16T18:01:44.498615",
     "exception": false,
     "start_time": "2025-07-16T17:57:15.800817",
     "status": "completed"
    },
    "tags": []
   },
   "outputs": [
    {
     "data": {
      "application/vnd.jupyter.widget-view+json": {
       "model_id": "c33eb8755a6e4a0c9d73b956f16da21e",
       "version_major": 2,
       "version_minor": 0
      },
      "text/plain": [
       "README.md: 0.00B [00:00, ?B/s]"
      ]
     },
     "metadata": {},
     "output_type": "display_data"
    },
    {
     "data": {
      "application/vnd.jupyter.widget-view+json": {
       "model_id": "231aaa202362409b8f301ace24b4f3cf",
       "version_major": 2,
       "version_minor": 0
      },
      "text/plain": [
       "Goodreads-Books.csv:   0%|          | 0.00/8.29G [00:00<?, ?B/s]"
      ]
     },
     "metadata": {},
     "output_type": "display_data"
    },
    {
     "data": {
      "application/vnd.jupyter.widget-view+json": {
       "model_id": "b893dadc920b4d979b9520a7093153fa",
       "version_major": 2,
       "version_minor": 0
      },
      "text/plain": [
       "Generating train split: 0 examples [00:00, ? examples/s]"
      ]
     },
     "metadata": {},
     "output_type": "display_data"
    },
    {
     "data": {
      "application/vnd.jupyter.widget-view+json": {
       "model_id": "8fa8d6e2237f40ea9bd2454071a18e5a",
       "version_major": 2,
       "version_minor": 0
      },
      "text/plain": [
       "Loading dataset shards:   0%|          | 0/17 [00:00<?, ?it/s]"
      ]
     },
     "metadata": {},
     "output_type": "display_data"
    }
   ],
   "source": [
    "dataset = load_dataset('BrightData/Goodreads-Books')"
   ]
  },
  {
   "cell_type": "markdown",
   "id": "78e9bef4",
   "metadata": {
    "papermill": {
     "duration": 0.006723,
     "end_time": "2025-07-16T18:01:44.513363",
     "exception": false,
     "start_time": "2025-07-16T18:01:44.506640",
     "status": "completed"
    },
    "tags": []
   },
   "source": [
    "## <a id=\"id5\">Exploratory Data Analysis (EDA)</a>"
   ]
  },
  {
   "cell_type": "code",
   "execution_count": 3,
   "id": "42f71885",
   "metadata": {
    "execution": {
     "iopub.execute_input": "2025-07-16T18:01:44.529308Z",
     "iopub.status.busy": "2025-07-16T18:01:44.528882Z",
     "iopub.status.idle": "2025-07-16T18:01:44.538117Z",
     "shell.execute_reply": "2025-07-16T18:01:44.536859Z"
    },
    "papermill": {
     "duration": 0.019962,
     "end_time": "2025-07-16T18:01:44.539963",
     "exception": false,
     "start_time": "2025-07-16T18:01:44.520001",
     "status": "completed"
    },
    "tags": []
   },
   "outputs": [
    {
     "data": {
      "text/plain": [
       "DatasetDict({\n",
       "    train: Dataset({\n",
       "        features: ['url', 'id', 'name', 'author', 'star_rating', 'num_ratings', 'num_reviews', 'summary', 'genres', 'first_published', 'about_author', 'community_reviews', 'kindle_price'],\n",
       "        num_rows: 6389859\n",
       "    })\n",
       "})"
      ]
     },
     "execution_count": 3,
     "metadata": {},
     "output_type": "execute_result"
    }
   ],
   "source": [
    "dataset"
   ]
  },
  {
   "cell_type": "code",
   "execution_count": 4,
   "id": "ff2ef2fd",
   "metadata": {
    "execution": {
     "iopub.execute_input": "2025-07-16T18:01:44.555244Z",
     "iopub.status.busy": "2025-07-16T18:01:44.554901Z",
     "iopub.status.idle": "2025-07-16T18:01:44.613879Z",
     "shell.execute_reply": "2025-07-16T18:01:44.612626Z"
    },
    "papermill": {
     "duration": 0.069025,
     "end_time": "2025-07-16T18:01:44.615997",
     "exception": false,
     "start_time": "2025-07-16T18:01:44.546972",
     "status": "completed"
    },
    "tags": []
   },
   "outputs": [],
   "source": [
    "dataset = dataset['train']\n",
    "dataset = dataset.select(range(10000))\n",
    "Data= dataset.select_columns([\"name\", \"summary\"]).to_pandas()\n",
    "Data = Data.rename(columns={\"name\": \"title\", \"summary\": \"description\"})"
   ]
  },
  {
   "cell_type": "code",
   "execution_count": 5,
   "id": "e37ed37f",
   "metadata": {
    "execution": {
     "iopub.execute_input": "2025-07-16T18:01:44.632286Z",
     "iopub.status.busy": "2025-07-16T18:01:44.631052Z",
     "iopub.status.idle": "2025-07-16T18:01:44.663956Z",
     "shell.execute_reply": "2025-07-16T18:01:44.662572Z"
    },
    "papermill": {
     "duration": 0.043053,
     "end_time": "2025-07-16T18:01:44.666118",
     "exception": false,
     "start_time": "2025-07-16T18:01:44.623065",
     "status": "completed"
    },
    "tags": []
   },
   "outputs": [
    {
     "data": {
      "text/html": [
       "<div>\n",
       "<style scoped>\n",
       "    .dataframe tbody tr th:only-of-type {\n",
       "        vertical-align: middle;\n",
       "    }\n",
       "\n",
       "    .dataframe tbody tr th {\n",
       "        vertical-align: top;\n",
       "    }\n",
       "\n",
       "    .dataframe thead th {\n",
       "        text-align: right;\n",
       "    }\n",
       "</style>\n",
       "<table border=\"1\" class=\"dataframe\">\n",
       "  <thead>\n",
       "    <tr style=\"text-align: right;\">\n",
       "      <th></th>\n",
       "      <th>title</th>\n",
       "      <th>description</th>\n",
       "    </tr>\n",
       "  </thead>\n",
       "  <tbody>\n",
       "    <tr>\n",
       "      <th>0</th>\n",
       "      <td>Horror Film Directors, 1931-1990</td>\n",
       "      <td>An exhaustive study of the major directors of ...</td>\n",
       "    </tr>\n",
       "    <tr>\n",
       "      <th>1</th>\n",
       "      <td>Australian Urban Planning: New Challenges, New...</td>\n",
       "      <td>Designed for use by academics, students, plann...</td>\n",
       "    </tr>\n",
       "    <tr>\n",
       "      <th>2</th>\n",
       "      <td>Morgen ohne gestern: Roman</td>\n",
       "      <td>Christine Hoffmann wacht eines Morgens im Kran...</td>\n",
       "    </tr>\n",
       "    <tr>\n",
       "      <th>3</th>\n",
       "      <td>Zen and the Art of Recording</td>\n",
       "      <td>In this book, the third in the Zen and the Art...</td>\n",
       "    </tr>\n",
       "    <tr>\n",
       "      <th>4</th>\n",
       "      <td>The Big Book Of Codewords</td>\n",
       "      <td>500 codeword puzzles in one great book!</td>\n",
       "    </tr>\n",
       "  </tbody>\n",
       "</table>\n",
       "</div>"
      ],
      "text/plain": [
       "                                               title  \\\n",
       "0                   Horror Film Directors, 1931-1990   \n",
       "1  Australian Urban Planning: New Challenges, New...   \n",
       "2                         Morgen ohne gestern: Roman   \n",
       "3                       Zen and the Art of Recording   \n",
       "4                          The Big Book Of Codewords   \n",
       "\n",
       "                                         description  \n",
       "0  An exhaustive study of the major directors of ...  \n",
       "1  Designed for use by academics, students, plann...  \n",
       "2  Christine Hoffmann wacht eines Morgens im Kran...  \n",
       "3  In this book, the third in the Zen and the Art...  \n",
       "4            500 codeword puzzles in one great book!  "
      ]
     },
     "execution_count": 5,
     "metadata": {},
     "output_type": "execute_result"
    }
   ],
   "source": [
    "Data.head()"
   ]
  },
  {
   "cell_type": "code",
   "execution_count": 6,
   "id": "e3be3a7a",
   "metadata": {
    "execution": {
     "iopub.execute_input": "2025-07-16T18:01:44.681893Z",
     "iopub.status.busy": "2025-07-16T18:01:44.681445Z",
     "iopub.status.idle": "2025-07-16T18:01:44.692612Z",
     "shell.execute_reply": "2025-07-16T18:01:44.691345Z"
    },
    "papermill": {
     "duration": 0.021218,
     "end_time": "2025-07-16T18:01:44.694438",
     "exception": false,
     "start_time": "2025-07-16T18:01:44.673220",
     "status": "completed"
    },
    "tags": []
   },
   "outputs": [
    {
     "name": "stdout",
     "output_type": "stream",
     "text": [
      "title            0\n",
      "description    993\n",
      "dtype: int64\n"
     ]
    }
   ],
   "source": [
    "print(Data.isna().sum())"
   ]
  },
  {
   "cell_type": "code",
   "execution_count": 7,
   "id": "a32189f3",
   "metadata": {
    "execution": {
     "iopub.execute_input": "2025-07-16T18:01:44.710904Z",
     "iopub.status.busy": "2025-07-16T18:01:44.710082Z",
     "iopub.status.idle": "2025-07-16T18:01:44.727536Z",
     "shell.execute_reply": "2025-07-16T18:01:44.726449Z"
    },
    "papermill": {
     "duration": 0.027464,
     "end_time": "2025-07-16T18:01:44.729317",
     "exception": false,
     "start_time": "2025-07-16T18:01:44.701853",
     "status": "completed"
    },
    "tags": []
   },
   "outputs": [],
   "source": [
    "Data = Data.dropna()"
   ]
  },
  {
   "cell_type": "code",
   "execution_count": 8,
   "id": "81d268b1",
   "metadata": {
    "execution": {
     "iopub.execute_input": "2025-07-16T18:01:44.744621Z",
     "iopub.status.busy": "2025-07-16T18:01:44.744238Z",
     "iopub.status.idle": "2025-07-16T18:01:44.750748Z",
     "shell.execute_reply": "2025-07-16T18:01:44.749638Z"
    },
    "papermill": {
     "duration": 0.016281,
     "end_time": "2025-07-16T18:01:44.752672",
     "exception": false,
     "start_time": "2025-07-16T18:01:44.736391",
     "status": "completed"
    },
    "tags": []
   },
   "outputs": [],
   "source": [
    "def remove_non_english(Data, col):\n",
    "    def is_english(text):\n",
    "        try:\n",
    "            return detect(str(text)) == 'en'\n",
    "        except LangDetectException:\n",
    "            return False \n",
    "    return Data[Data[col].apply(is_english)]\n"
   ]
  },
  {
   "cell_type": "code",
   "execution_count": 9,
   "id": "47dc5cc5",
   "metadata": {
    "execution": {
     "iopub.execute_input": "2025-07-16T18:01:44.769688Z",
     "iopub.status.busy": "2025-07-16T18:01:44.769292Z",
     "iopub.status.idle": "2025-07-16T18:02:39.334636Z",
     "shell.execute_reply": "2025-07-16T18:02:39.332740Z"
    },
    "papermill": {
     "duration": 54.577057,
     "end_time": "2025-07-16T18:02:39.337050",
     "exception": false,
     "start_time": "2025-07-16T18:01:44.759993",
     "status": "completed"
    },
    "tags": []
   },
   "outputs": [],
   "source": [
    "Data = remove_non_english(Data, 'description')"
   ]
  },
  {
   "cell_type": "code",
   "execution_count": 10,
   "id": "ca3ec099",
   "metadata": {
    "execution": {
     "iopub.execute_input": "2025-07-16T18:02:39.353960Z",
     "iopub.status.busy": "2025-07-16T18:02:39.353541Z",
     "iopub.status.idle": "2025-07-16T18:02:39.365340Z",
     "shell.execute_reply": "2025-07-16T18:02:39.363984Z"
    },
    "papermill": {
     "duration": 0.022539,
     "end_time": "2025-07-16T18:02:39.367295",
     "exception": false,
     "start_time": "2025-07-16T18:02:39.344756",
     "status": "completed"
    },
    "tags": []
   },
   "outputs": [
    {
     "data": {
      "text/plain": [
       "(7337, 2)"
      ]
     },
     "execution_count": 10,
     "metadata": {},
     "output_type": "execute_result"
    }
   ],
   "source": [
    "Data.shape"
   ]
  },
  {
   "cell_type": "markdown",
   "id": "83df6767",
   "metadata": {
    "papermill": {
     "duration": 0.007777,
     "end_time": "2025-07-16T18:02:39.382480",
     "exception": false,
     "start_time": "2025-07-16T18:02:39.374703",
     "status": "completed"
    },
    "tags": []
   },
   "source": [
    "### 🧹 Text Cleaning and Preprocessing\n",
    "\n",
    "We apply the following steps to prepare the text:\n",
    "- Convert to lowercase\n",
    "- Remove stopwords (e.g., \"a\", \"the\", \"and\")\n",
    "- Lemmatize words (reduce to base form)\n",
    "\n",
    "This ensures the descriptions are clean and consistent for vectorization.\n"
   ]
  },
  {
   "cell_type": "code",
   "execution_count": 11,
   "id": "c3de6e60",
   "metadata": {
    "execution": {
     "iopub.execute_input": "2025-07-16T18:02:39.400166Z",
     "iopub.status.busy": "2025-07-16T18:02:39.399466Z",
     "iopub.status.idle": "2025-07-16T18:02:39.652011Z",
     "shell.execute_reply": "2025-07-16T18:02:39.650066Z"
    },
    "papermill": {
     "duration": 0.263201,
     "end_time": "2025-07-16T18:02:39.653773",
     "exception": false,
     "start_time": "2025-07-16T18:02:39.390572",
     "status": "completed"
    },
    "tags": []
   },
   "outputs": [
    {
     "name": "stderr",
     "output_type": "stream",
     "text": [
      "[nltk_data] Downloading package stopwords to /usr/share/nltk_data...\n",
      "[nltk_data]   Package stopwords is already up-to-date!\n",
      "[nltk_data] Downloading package wordnet to /usr/share/nltk_data...\n",
      "[nltk_data]   Package wordnet is already up-to-date!\n"
     ]
    },
    {
     "data": {
      "text/plain": [
       "True"
      ]
     },
     "execution_count": 11,
     "metadata": {},
     "output_type": "execute_result"
    }
   ],
   "source": [
    "nltk.download(\"stopwords\")\n",
    "nltk.download(\"wordnet\")"
   ]
  },
  {
   "cell_type": "code",
   "execution_count": 12,
   "id": "6fffceb1",
   "metadata": {
    "execution": {
     "iopub.execute_input": "2025-07-16T18:02:39.670696Z",
     "iopub.status.busy": "2025-07-16T18:02:39.669654Z",
     "iopub.status.idle": "2025-07-16T18:02:39.681025Z",
     "shell.execute_reply": "2025-07-16T18:02:39.679970Z"
    },
    "papermill": {
     "duration": 0.021636,
     "end_time": "2025-07-16T18:02:39.682952",
     "exception": false,
     "start_time": "2025-07-16T18:02:39.661316",
     "status": "completed"
    },
    "tags": []
   },
   "outputs": [],
   "source": [
    "stopWords = set(stopwords.words(\"english\"))\n",
    "lemmatizer = WordNetLemmatizer()"
   ]
  },
  {
   "cell_type": "code",
   "execution_count": 13,
   "id": "b1a4be57",
   "metadata": {
    "execution": {
     "iopub.execute_input": "2025-07-16T18:02:39.699594Z",
     "iopub.status.busy": "2025-07-16T18:02:39.698489Z",
     "iopub.status.idle": "2025-07-16T18:02:39.705205Z",
     "shell.execute_reply": "2025-07-16T18:02:39.704319Z"
    },
    "papermill": {
     "duration": 0.016573,
     "end_time": "2025-07-16T18:02:39.706881",
     "exception": false,
     "start_time": "2025-07-16T18:02:39.690308",
     "status": "completed"
    },
    "tags": []
   },
   "outputs": [],
   "source": [
    "def preprocessText(txt):\n",
    "    txt = txt.lower()\n",
    "    token_txt = word_tokenize(txt)\n",
    "    \n",
    "\n",
    "    filtered_tokens = [\n",
    "        word for word in token_txt \n",
    "        if word not in stopWords \n",
    "    ]\n",
    "    \n",
    "    lemmatized_tokens = [lemmatizer.lemmatize(token, pos='v') for token in filtered_tokens]\n",
    "    \n",
    "    return ' '.join(lemmatized_tokens)\n"
   ]
  },
  {
   "cell_type": "code",
   "execution_count": 14,
   "id": "9306502a",
   "metadata": {
    "execution": {
     "iopub.execute_input": "2025-07-16T18:02:39.722652Z",
     "iopub.status.busy": "2025-07-16T18:02:39.722270Z",
     "iopub.status.idle": "2025-07-16T18:02:55.167160Z",
     "shell.execute_reply": "2025-07-16T18:02:55.165461Z"
    },
    "papermill": {
     "duration": 15.454877,
     "end_time": "2025-07-16T18:02:55.169049",
     "exception": false,
     "start_time": "2025-07-16T18:02:39.714172",
     "status": "completed"
    },
    "tags": []
   },
   "outputs": [
    {
     "data": {
      "text/plain": [
       "0       exhaustive study major directors horror film p...\n",
       "1       design use academics , students , plan profess...\n",
       "3       book , third zen art series , mixerman distill...\n",
       "4                    500 codeword puzzle one great book !\n",
       "5       antique apples kilcherman ’ christmas cove far...\n",
       "                              ...                        \n",
       "9992    “ circle fifths ” intend help beginner early i...\n",
       "9994    * * * read free kindle unlimited * * * special...\n",
       "9995    help teach intermediate japanese well-known ch...\n",
       "9997    collection twelve stories , barry lopez—the na...\n",
       "9999    kevin o'rourke 's debut collection explore mea...\n",
       "Name: description, Length: 7337, dtype: object"
      ]
     },
     "execution_count": 14,
     "metadata": {},
     "output_type": "execute_result"
    }
   ],
   "source": [
    "Data['description'].apply(preprocessText)"
   ]
  },
  {
   "cell_type": "markdown",
   "id": "130516b5",
   "metadata": {
    "papermill": {
     "duration": 0.007596,
     "end_time": "2025-07-16T18:02:55.184908",
     "exception": false,
     "start_time": "2025-07-16T18:02:55.177312",
     "status": "completed"
    },
    "tags": []
   },
   "source": [
    "### 🔢 Text Vectorization (TF-IDF)\n",
    "\n",
    "We use **TF-IDF vectorization** to convert the cleaned book descriptions into numerical features.\n",
    "This allows the clustering algorithm to compare books based on word importance.\n"
   ]
  },
  {
   "cell_type": "code",
   "execution_count": 15,
   "id": "9cc379e8",
   "metadata": {
    "execution": {
     "iopub.execute_input": "2025-07-16T18:02:55.201083Z",
     "iopub.status.busy": "2025-07-16T18:02:55.200744Z",
     "iopub.status.idle": "2025-07-16T18:02:56.329746Z",
     "shell.execute_reply": "2025-07-16T18:02:56.328667Z"
    },
    "papermill": {
     "duration": 1.13954,
     "end_time": "2025-07-16T18:02:56.332023",
     "exception": false,
     "start_time": "2025-07-16T18:02:55.192483",
     "status": "completed"
    },
    "tags": []
   },
   "outputs": [],
   "source": [
    "vectorizer = TfidfVectorizer()\n",
    "X = vectorizer.fit_transform(Data['description'])"
   ]
  },
  {
   "cell_type": "markdown",
   "id": "6a2b290f",
   "metadata": {
    "papermill": {
     "duration": 0.007231,
     "end_time": "2025-07-16T18:02:56.347699",
     "exception": false,
     "start_time": "2025-07-16T18:02:56.340468",
     "status": "completed"
    },
    "tags": []
   },
   "source": [
    "## 🔗 Step 3: Apply KMeans Clustering\n",
    "\n",
    "We apply the KMeans algorithm to group books into clusters based on their TF-IDF vectors.\n",
    "\n",
    "Each cluster represents a group of books with similar themes or topics — what we call **micro-genres**.\n"
   ]
  },
  {
   "cell_type": "code",
   "execution_count": 16,
   "id": "50cc7cd3",
   "metadata": {
    "execution": {
     "iopub.execute_input": "2025-07-16T18:02:56.366133Z",
     "iopub.status.busy": "2025-07-16T18:02:56.365751Z",
     "iopub.status.idle": "2025-07-16T18:09:25.860265Z",
     "shell.execute_reply": "2025-07-16T18:09:25.858918Z"
    },
    "papermill": {
     "duration": 389.506747,
     "end_time": "2025-07-16T18:09:25.862933",
     "exception": false,
     "start_time": "2025-07-16T18:02:56.356186",
     "status": "completed"
    },
    "tags": []
   },
   "outputs": [],
   "source": [
    "scores = []\n",
    "k_range = range(2, 25)\n",
    "\n",
    "best_k = 0\n",
    "best_score = -1 \n",
    "\n",
    "for k in k_range:\n",
    "    kmeans = KMeans(n_clusters=k, n_init=10, random_state=42)\n",
    "    labels = kmeans.fit_predict(X)\n",
    "    score = silhouette_score(X, labels)\n",
    "    \n",
    "    scores.append(score)\n",
    "    \n",
    "    if score > best_score:\n",
    "        best_score = score\n",
    "        best_k = k\n"
   ]
  },
  {
   "cell_type": "code",
   "execution_count": 17,
   "id": "1f4bcead",
   "metadata": {
    "execution": {
     "iopub.execute_input": "2025-07-16T18:09:25.881633Z",
     "iopub.status.busy": "2025-07-16T18:09:25.880640Z",
     "iopub.status.idle": "2025-07-16T18:09:26.338531Z",
     "shell.execute_reply": "2025-07-16T18:09:26.337270Z"
    },
    "papermill": {
     "duration": 0.469226,
     "end_time": "2025-07-16T18:09:26.340440",
     "exception": false,
     "start_time": "2025-07-16T18:09:25.871214",
     "status": "completed"
    },
    "tags": []
   },
   "outputs": [
    {
     "data": {
      "image/png": "[encoded data removed]",
      "text/plain": [
       "<Figure size 1000x500 with 1 Axes>"
      ]
     },
     "metadata": {},
     "output_type": "display_data"
    }
   ],
   "source": [
    "plt.figure(figsize=(10, 5))\n",
    "plt.plot(list(k_range), scores, marker='o')  \n",
    "plt.xlabel('Number of clusters (k)')\n",
    "plt.ylabel('Silhouette Score')\n",
    "plt.title('Silhouette Score for Different k')\n",
    "plt.grid(True)\n",
    "plt.show()\n"
   ]
  },
  {
   "cell_type": "code",
   "execution_count": 18,
   "id": "72f7014e",
   "metadata": {
    "execution": {
     "iopub.execute_input": "2025-07-16T18:09:26.360849Z",
     "iopub.status.busy": "2025-07-16T18:09:26.360436Z",
     "iopub.status.idle": "2025-07-16T18:09:35.414399Z",
     "shell.execute_reply": "2025-07-16T18:09:35.413632Z"
    },
    "papermill": {
     "duration": 9.066337,
     "end_time": "2025-07-16T18:09:35.416730",
     "exception": false,
     "start_time": "2025-07-16T18:09:26.350393",
     "status": "completed"
    },
    "tags": []
   },
   "outputs": [],
   "source": [
    "model = KMeans(n_clusters=best_k, n_init=10, random_state=42)\n",
    "Data[\"genre\"] = model.fit_predict(X)"
   ]
  },
  {
   "cell_type": "code",
   "execution_count": 19,
   "id": "32b50efe",
   "metadata": {
    "execution": {
     "iopub.execute_input": "2025-07-16T18:09:35.654772Z",
     "iopub.status.busy": "2025-07-16T18:09:35.654380Z",
     "iopub.status.idle": "2025-07-16T18:09:35.667255Z",
     "shell.execute_reply": "2025-07-16T18:09:35.666248Z"
    },
    "papermill": {
     "duration": 0.025352,
     "end_time": "2025-07-16T18:09:35.668940",
     "exception": false,
     "start_time": "2025-07-16T18:09:35.643588",
     "status": "completed"
    },
    "tags": []
   },
   "outputs": [
    {
     "data": {
      "text/html": [
       "<div>\n",
       "<style scoped>\n",
       "    .dataframe tbody tr th:only-of-type {\n",
       "        vertical-align: middle;\n",
       "    }\n",
       "\n",
       "    .dataframe tbody tr th {\n",
       "        vertical-align: top;\n",
       "    }\n",
       "\n",
       "    .dataframe thead th {\n",
       "        text-align: right;\n",
       "    }\n",
       "</style>\n",
       "<table border=\"1\" class=\"dataframe\">\n",
       "  <thead>\n",
       "    <tr style=\"text-align: right;\">\n",
       "      <th></th>\n",
       "      <th>title</th>\n",
       "      <th>description</th>\n",
       "      <th>genre</th>\n",
       "    </tr>\n",
       "  </thead>\n",
       "  <tbody>\n",
       "    <tr>\n",
       "      <th>0</th>\n",
       "      <td>Horror Film Directors, 1931-1990</td>\n",
       "      <td>An exhaustive study of the major directors of ...</td>\n",
       "      <td>8</td>\n",
       "    </tr>\n",
       "    <tr>\n",
       "      <th>1</th>\n",
       "      <td>Australian Urban Planning: New Challenges, New...</td>\n",
       "      <td>Designed for use by academics, students, plann...</td>\n",
       "      <td>13</td>\n",
       "    </tr>\n",
       "    <tr>\n",
       "      <th>3</th>\n",
       "      <td>Zen and the Art of Recording</td>\n",
       "      <td>In this book, the third in the Zen and the Art...</td>\n",
       "      <td>13</td>\n",
       "    </tr>\n",
       "    <tr>\n",
       "      <th>4</th>\n",
       "      <td>The Big Book Of Codewords</td>\n",
       "      <td>500 codeword puzzles in one great book!</td>\n",
       "      <td>1</td>\n",
       "    </tr>\n",
       "    <tr>\n",
       "      <th>5</th>\n",
       "      <td>Antique Apples from Kilcherman's Christmas Cov...</td>\n",
       "      <td>Antique Apples from Kilcherman’s Christmas Cov...</td>\n",
       "      <td>8</td>\n",
       "    </tr>\n",
       "    <tr>\n",
       "      <th>6</th>\n",
       "      <td>It's A Wonderful Death: A Fortannis Novel</td>\n",
       "      <td>A brave knight breaks her vows to fight agains...</td>\n",
       "      <td>10</td>\n",
       "    </tr>\n",
       "    <tr>\n",
       "      <th>8</th>\n",
       "      <td>Oman Under Qaboos</td>\n",
       "      <td>This is an examination of the political, econo...</td>\n",
       "      <td>8</td>\n",
       "    </tr>\n",
       "    <tr>\n",
       "      <th>9</th>\n",
       "      <td>Quilts From Lavender Hill Farm: 12 Projects In...</td>\n",
       "      <td>Bring a Touch of the Country Into Your Home In...</td>\n",
       "      <td>0</td>\n",
       "    </tr>\n",
       "    <tr>\n",
       "      <th>14</th>\n",
       "      <td>Il Gigante: Michelangelo, Florence, and the Da...</td>\n",
       "      <td>At the turn of the 16th century, Italy was a t...</td>\n",
       "      <td>8</td>\n",
       "    </tr>\n",
       "    <tr>\n",
       "      <th>16</th>\n",
       "      <td>Ok Cupid Dating Success: Attract &amp; Seduce Girl...</td>\n",
       "      <td>Over half of new relationships start online th...</td>\n",
       "      <td>9</td>\n",
       "    </tr>\n",
       "    <tr>\n",
       "      <th>18</th>\n",
       "      <td>Verzamelde Gedichten</td>\n",
       "      <td>Dutch</td>\n",
       "      <td>1</td>\n",
       "    </tr>\n",
       "    <tr>\n",
       "      <th>19</th>\n",
       "      <td>Sam Saboura's Real Style: Style Secrets for Re...</td>\n",
       "      <td>Sam Saboura knows a thing or two about style. ...</td>\n",
       "      <td>9</td>\n",
       "    </tr>\n",
       "    <tr>\n",
       "      <th>20</th>\n",
       "      <td>A New Psychology of Women with Sex &amp; Gender On...</td>\n",
       "      <td>This text begins with the premise that everyth...</td>\n",
       "      <td>13</td>\n",
       "    </tr>\n",
       "    <tr>\n",
       "      <th>21</th>\n",
       "      <td>Workforce Housing: Innovative Strategies and B...</td>\n",
       "      <td>This book describes some of the most innovativ...</td>\n",
       "      <td>0</td>\n",
       "    </tr>\n",
       "    <tr>\n",
       "      <th>24</th>\n",
       "      <td>Bible Stories Book 2 - The Story of Adam and Eve</td>\n",
       "      <td>This is the story of how the serpent gets Eve ...</td>\n",
       "      <td>0</td>\n",
       "    </tr>\n",
       "    <tr>\n",
       "      <th>25</th>\n",
       "      <td>Final Analysis: The Untold Story of the Susan ...</td>\n",
       "      <td>In October 2002, Susan Polk, a housewife and m...</td>\n",
       "      <td>8</td>\n",
       "    </tr>\n",
       "    <tr>\n",
       "      <th>27</th>\n",
       "      <td>Cosmopolis</td>\n",
       "      <td>This is an EXACT reproduction of a book publis...</td>\n",
       "      <td>11</td>\n",
       "    </tr>\n",
       "    <tr>\n",
       "      <th>28</th>\n",
       "      <td>Painting Seascapes in Watercolor</td>\n",
       "      <td>This work about watercolour opens with a histo...</td>\n",
       "      <td>1</td>\n",
       "    </tr>\n",
       "    <tr>\n",
       "      <th>29</th>\n",
       "      <td>Chicken Soup for Little Souls: Della Splatnuk,...</td>\n",
       "      <td>The last thing Carrie wants to do is go to Del...</td>\n",
       "      <td>10</td>\n",
       "    </tr>\n",
       "    <tr>\n",
       "      <th>30</th>\n",
       "      <td>Documenting Spain: Artists, Exhibition Culture...</td>\n",
       "      <td>The news media have given us potent demonstrat...</td>\n",
       "      <td>8</td>\n",
       "    </tr>\n",
       "  </tbody>\n",
       "</table>\n",
       "</div>"
      ],
      "text/plain": [
       "                                                title  \\\n",
       "0                    Horror Film Directors, 1931-1990   \n",
       "1   Australian Urban Planning: New Challenges, New...   \n",
       "3                        Zen and the Art of Recording   \n",
       "4                           The Big Book Of Codewords   \n",
       "5   Antique Apples from Kilcherman's Christmas Cov...   \n",
       "6           It's A Wonderful Death: A Fortannis Novel   \n",
       "8                                   Oman Under Qaboos   \n",
       "9   Quilts From Lavender Hill Farm: 12 Projects In...   \n",
       "14  Il Gigante: Michelangelo, Florence, and the Da...   \n",
       "16  Ok Cupid Dating Success: Attract & Seduce Girl...   \n",
       "18                               Verzamelde Gedichten   \n",
       "19  Sam Saboura's Real Style: Style Secrets for Re...   \n",
       "20  A New Psychology of Women with Sex & Gender On...   \n",
       "21  Workforce Housing: Innovative Strategies and B...   \n",
       "24   Bible Stories Book 2 - The Story of Adam and Eve   \n",
       "25  Final Analysis: The Untold Story of the Susan ...   \n",
       "27                                         Cosmopolis   \n",
       "28                   Painting Seascapes in Watercolor   \n",
       "29  Chicken Soup for Little Souls: Della Splatnuk,...   \n",
       "30  Documenting Spain: Artists, Exhibition Culture...   \n",
       "\n",
       "                                          description  genre  \n",
       "0   An exhaustive study of the major directors of ...      8  \n",
       "1   Designed for use by academics, students, plann...     13  \n",
       "3   In this book, the third in the Zen and the Art...     13  \n",
       "4             500 codeword puzzles in one great book!      1  \n",
       "5   Antique Apples from Kilcherman’s Christmas Cov...      8  \n",
       "6   A brave knight breaks her vows to fight agains...     10  \n",
       "8   This is an examination of the political, econo...      8  \n",
       "9   Bring a Touch of the Country Into Your Home In...      0  \n",
       "14  At the turn of the 16th century, Italy was a t...      8  \n",
       "16  Over half of new relationships start online th...      9  \n",
       "18                                              Dutch      1  \n",
       "19  Sam Saboura knows a thing or two about style. ...      9  \n",
       "20  This text begins with the premise that everyth...     13  \n",
       "21  This book describes some of the most innovativ...      0  \n",
       "24  This is the story of how the serpent gets Eve ...      0  \n",
       "25  In October 2002, Susan Polk, a housewife and m...      8  \n",
       "27  This is an EXACT reproduction of a book publis...     11  \n",
       "28  This work about watercolour opens with a histo...      1  \n",
       "29  The last thing Carrie wants to do is go to Del...     10  \n",
       "30  The news media have given us potent demonstrat...      8  "
      ]
     },
     "execution_count": 19,
     "metadata": {},
     "output_type": "execute_result"
    }
   ],
   "source": [
    "Data.head(20)"
   ]
  },
  {
   "cell_type": "markdown",
   "id": "523f6fc8",
   "metadata": {
    "papermill": {
     "duration": 0.008846,
     "end_time": "2025-07-16T18:09:35.687497",
     "exception": false,
     "start_time": "2025-07-16T18:09:35.678651",
     "status": "completed"
    },
    "tags": []
   },
   "source": [
    "## 📊 Step 4: Evaluate Clustering\n",
    "\n",
    "We use the **Silhouette Score** to evaluate the quality of the clustering."
   ]
  },
  {
   "cell_type": "code",
   "execution_count": 20,
   "id": "66f6e754",
   "metadata": {
    "execution": {
     "iopub.execute_input": "2025-07-16T18:09:35.707600Z",
     "iopub.status.busy": "2025-07-16T18:09:35.707244Z",
     "iopub.status.idle": "2025-07-16T18:09:35.712870Z",
     "shell.execute_reply": "2025-07-16T18:09:35.711632Z"
    },
    "papermill": {
     "duration": 0.018104,
     "end_time": "2025-07-16T18:09:35.714624",
     "exception": false,
     "start_time": "2025-07-16T18:09:35.696520",
     "status": "completed"
    },
    "tags": []
   },
   "outputs": [
    {
     "name": "stdout",
     "output_type": "stream",
     "text": [
      "Silhouette Score: 0.0071669940952502455\n"
     ]
    }
   ],
   "source": [
    "score = best_score\n",
    "print(f\"Silhouette Score: {score}\")"
   ]
  },
  {
   "cell_type": "markdown",
   "id": "b84a0c3f",
   "metadata": {
    "papermill": {
     "duration": 0.008846,
     "end_time": "2025-07-16T18:09:35.732786",
     "exception": false,
     "start_time": "2025-07-16T18:09:35.723940",
     "status": "completed"
    },
    "tags": []
   },
   "source": [
    "### 💾 Save Results to CSV\n",
    "\n",
    "We save the clustered data to a CSV file for further exploration, analysis, or use in other systems.\n"
   ]
  },
  {
   "cell_type": "code",
   "execution_count": 21,
   "id": "db17317a",
   "metadata": {
    "execution": {
     "iopub.execute_input": "2025-07-16T18:09:35.752643Z",
     "iopub.status.busy": "2025-07-16T18:09:35.752270Z",
     "iopub.status.idle": "2025-07-16T18:09:35.938806Z",
     "shell.execute_reply": "2025-07-16T18:09:35.937333Z"
    },
    "papermill": {
     "duration": 0.198961,
     "end_time": "2025-07-16T18:09:35.940885",
     "exception": false,
     "start_time": "2025-07-16T18:09:35.741924",
     "status": "completed"
    },
    "tags": []
   },
   "outputs": [],
   "source": [
    "Data.to_csv(\"Book's_genre.csv\", index=False)"
   ]
  },
  {
   "cell_type": "markdown",
   "id": "b249473a",
   "metadata": {
    "papermill": {
     "duration": 0.009122,
     "end_time": "2025-07-16T18:09:35.959322",
     "exception": false,
     "start_time": "2025-07-16T18:09:35.950200",
     "status": "completed"
    },
    "tags": []
   },
   "source": [
    "### ✅ Conclusion\n",
    "\n",
    "- We explored whether book descriptions can reveal hidden micro-genres using clustering.\n",
    "- Text preprocessing and TF-IDF allowed us to convert descriptions into numerical features.\n",
    "- KMeans grouped the books, but evaluation shows clustering can be improved.\n",
    "- Future work: Try more clusters, better text cleaning, or advanced models like LDA or embeddings.\n"
   ]
  }
 ],
 "metadata": {
  "kaggle": {
   "accelerator": "none",
   "dataSources": [],
   "dockerImageVersionId": 31089,
   "isGpuEnabled": false,
   "isInternetEnabled": true,
   "language": "python",
   "sourceType": "notebook"
  },
  "kernelspec": {
   "display_name": "Python 3",
   "language": "python",
   "name": "python3"
  },
  "language_info": {
   "codemirror_mode": {
    "name": "ipython",
    "version": 3
   },
   "file_extension": ".py",
   "mimetype": "text/x-python",
   "name": "python",
   "nbconvert_exporter": "python",
   "pygments_lexer": "ipython3",
   "version": "3.11.13"
  },
  "papermill": {
   "default_parameters": {},
   "duration": 769.333554,
   "end_time": "2025-07-16T18:09:38.645222",
   "environment_variables": {},
   "exception": null,
   "input_path": "__notebook__.ipynb",
   "output_path": "__notebook__.ipynb",
   "parameters": {},
   "start_time": "2025-07-16T17:56:49.311668",
   "version": "2.6.0"
  },
  "widgets": {
   "application/vnd.jupyter.widget-state+json": {
    "state": {
     "003a4d9fa90d47b2a81ff08dcbece4e7": {
      "model_module": "@jupyter-widgets/controls",
      "model_module_version": "2.0.0",
      "model_name": "FloatProgressModel",
      "state": {
       "_dom_classes": [],
       "_model_module": "@jupyter-widgets/controls",
       "_model_module_version": "2.0.0",
       "_model_name": "FloatProgressModel",
       "_view_count": null,
       "_view_module": "@jupyter-widgets/controls",
       "_view_module_version": "2.0.0",
       "_view_name": "ProgressView",
       "bar_style": "success",
       "description": "",
       "description_allow_html": false,
       "layout": "IPY_MODEL_1451c73205a742f6ba777d65e8858267",
       "max": 17.0,
       "min": 0.0,
       "orientation": "horizontal",
       "style": "IPY_MODEL_5d948ad3bd4e452ebd94beed5d2929f2",
       "tabbable": null,
       "tooltip": null,
       "value": 17.0
      }
     },
     "0625f911ebe14cf28af226de4fd368a3": {
      "model_module": "@jupyter-widgets/controls",
      "model_module_version": "2.0.0",
      "model_name": "HTMLStyleModel",
      "state": {
       "_model_module": "@jupyter-widgets/controls",
       "_model_module_version": "2.0.0",
       "_model_name": "HTMLStyleModel",
       "_view_count": null,
       "_view_module": "@jupyter-widgets/base",
       "_view_module_version": "2.0.0",
       "_view_name": "StyleView",
       "background": null,
       "description_width": "",
       "font_size": null,
       "text_color": null
      }
     },
     "1451c73205a742f6ba777d65e8858267": {
      "model_module": "@jupyter-widgets/base",
      "model_module_version": "2.0.0",
      "model_name": "LayoutModel",
      "state": {
       "_model_module": "@jupyter-widgets/base",
       "_model_module_version": "2.0.0",
       "_model_name": "LayoutModel",
       "_view_count": null,
       "_view_module": "@jupyter-widgets/base",
       "_view_module_version": "2.0.0",
       "_view_name": "LayoutView",
       "align_content": null,
       "align_items": null,
       "align_self": null,
       "border_bottom": null,
       "border_left": null,
       "border_right": null,
       "border_top": null,
       "bottom": null,
       "display": null,
       "flex": null,
       "flex_flow": null,
       "grid_area": null,
       "grid_auto_columns": null,
       "grid_auto_flow": null,
       "grid_auto_rows": null,
       "grid_column": null,
       "grid_gap": null,
       "grid_row": null,
       "grid_template_areas": null,
       "grid_template_columns": null,
       "grid_template_rows": null,
       "height": null,
       "justify_content": null,
       "justify_items": null,
       "left": null,
       "margin": null,
       "max_height": null,
       "max_width": null,
       "min_height": null,
       "min_width": null,
       "object_fit": null,
       "object_position": null,
       "order": null,
       "overflow": null,
       "padding": null,
       "right": null,
       "top": null,
       "visibility": null,
       "width": null
      }
     },
     "16794043113f42df9734b5cc6fb89774": {
      "model_module": "@jupyter-widgets/controls",
      "model_module_version": "2.0.0",
      "model_name": "ProgressStyleModel",
      "state": {
       "_model_module": "@jupyter-widgets/controls",
       "_model_module_version": "2.0.0",
       "_model_name": "ProgressStyleModel",
       "_view_count": null,
       "_view_module": "@jupyter-widgets/base",
       "_view_module_version": "2.0.0",
       "_view_name": "StyleView",
       "bar_color": null,
       "description_width": ""
      }
     },
     "1cc44878ca7f4178adc53835ddae325a": {
      "model_module": "@jupyter-widgets/base",
      "model_module_version": "2.0.0",
      "model_name": "LayoutModel",
      "state": {
       "_model_module": "@jupyter-widgets/base",
       "_model_module_version": "2.0.0",
       "_model_name": "LayoutModel",
       "_view_count": null,
       "_view_module": "@jupyter-widgets/base",
       "_view_module_version": "2.0.0",
       "_view_name": "LayoutView",
       "align_content": null,
       "align_items": null,
       "align_self": null,
       "border_bottom": null,
       "border_left": null,
       "border_right": null,
       "border_top": null,
       "bottom": null,
       "display": null,
       "flex": null,
       "flex_flow": null,
       "grid_area": null,
       "grid_auto_columns": null,
       "grid_auto_flow": null,
       "grid_auto_rows": null,
       "grid_column": null,
       "grid_gap": null,
       "grid_row": null,
       "grid_template_areas": null,
       "grid_template_columns": null,
       "grid_template_rows": null,
       "height": null,
       "justify_content": null,
       "justify_items": null,
       "left": null,
       "margin": null,
       "max_height": null,
       "max_width": null,
       "min_height": null,
       "min_width": null,
       "object_fit": null,
       "object_position": null,
       "order": null,
       "overflow": null,
       "padding": null,
       "right": null,
       "top": null,
       "visibility": null,
       "width": null
      }
     },
     "1ced4762743a408badeaece6c341c2c1": {
      "model_module": "@jupyter-widgets/base",
      "model_module_version": "2.0.0",
      "model_name": "LayoutModel",
      "state": {
       "_model_module": "@jupyter-widgets/base",
       "_model_module_version": "2.0.0",
       "_model_name": "LayoutModel",
       "_view_count": null,
       "_view_module": "@jupyter-widgets/base",
       "_view_module_version": "2.0.0",
       "_view_name": "LayoutView",
       "align_content": null,
       "align_items": null,
       "align_self": null,
       "border_bottom": null,
       "border_left": null,
       "border_right": null,
       "border_top": null,
       "bottom": null,
       "display": null,
       "flex": null,
       "flex_flow": null,
       "grid_area": null,
       "grid_auto_columns": null,
       "grid_auto_flow": null,
       "grid_auto_rows": null,
       "grid_column": null,
       "grid_gap": null,
       "grid_row": null,
       "grid_template_areas": null,
       "grid_template_columns": null,
       "grid_template_rows": null,
       "height": null,
       "justify_content": null,
       "justify_items": null,
       "left": null,
       "margin": null,
       "max_height": null,
       "max_width": null,
       "min_height": null,
       "min_width": null,
       "object_fit": null,
       "object_position": null,
       "order": null,
       "overflow": null,
       "padding": null,
       "right": null,
       "top": null,
       "visibility": null,
       "width": null
      }
     },
     "1fa65ba6aaa14e0b8637ee1cf6901779": {
      "model_module": "@jupyter-widgets/base",
      "model_module_version": "2.0.0",
      "model_name": "LayoutModel",
      "state": {
       "_model_module": "@jupyter-widgets/base",
       "_model_module_version": "2.0.0",
       "_model_name": "LayoutModel",
       "_view_count": null,
       "_view_module": "@jupyter-widgets/base",
       "_view_module_version": "2.0.0",
       "_view_name": "LayoutView",
       "align_content": null,
       "align_items": null,
       "align_self": null,
       "border_bottom": null,
       "border_left": null,
       "border_right": null,
       "border_top": null,
       "bottom": null,
       "display": null,
       "flex": null,
       "flex_flow": null,
       "grid_area": null,
       "grid_auto_columns": null,
       "grid_auto_flow": null,
       "grid_auto_rows": null,
       "grid_column": null,
       "grid_gap": null,
       "grid_row": null,
       "grid_template_areas": null,
       "grid_template_columns": null,
       "grid_template_rows": null,
       "height": null,
       "justify_content": null,
       "justify_items": null,
       "left": null,
       "margin": null,
       "max_height": null,
       "max_width": null,
       "min_height": null,
       "min_width": null,
       "object_fit": null,
       "object_position": null,
       "order": null,
       "overflow": null,
       "padding": null,
       "right": null,
       "top": null,
       "visibility": null,
       "width": null
      }
     },
     "231aaa202362409b8f301ace24b4f3cf": {
      "model_module": "@jupyter-widgets/controls",
      "model_module_version": "2.0.0",
      "model_name": "HBoxModel",
      "state": {
       "_dom_classes": [],
       "_model_module": "@jupyter-widgets/controls",
       "_model_module_version": "2.0.0",
       "_model_name": "HBoxModel",
       "_view_count": null,
       "_view_module": "@jupyter-widgets/controls",
       "_view_module_version": "2.0.0",
       "_view_name": "HBoxView",
       "box_style": "",
       "children": [
        "IPY_MODEL_31f92948678a40a28d0d1e677dbd6479",
        "IPY_MODEL_7e25121a01cd4a379d15e6b84a645060",
        "IPY_MODEL_8cc096ed8df946c693a216967bb2cf82"
       ],
       "layout": "IPY_MODEL_a06fe0c193ac4180b7a0344e69b98377",
       "tabbable": null,
       "tooltip": null
      }
     },
     "25c9e99c6ac6429d823772c51b71278c": {
      "model_module": "@jupyter-widgets/base",
      "model_module_version": "2.0.0",
      "model_name": "LayoutModel",
      "state": {
       "_model_module": "@jupyter-widgets/base",
       "_model_module_version": "2.0.0",
       "_model_name": "LayoutModel",
       "_view_count": null,
       "_view_module": "@jupyter-widgets/base",
       "_view_module_version": "2.0.0",
       "_view_name": "LayoutView",
       "align_content": null,
       "align_items": null,
       "align_self": null,
       "border_bottom": null,
       "border_left": null,
       "border_right": null,
       "border_top": null,
       "bottom": null,
       "display": null,
       "flex": null,
       "flex_flow": null,
       "grid_area": null,
       "grid_auto_columns": null,
       "grid_auto_flow": null,
       "grid_auto_rows": null,
       "grid_column": null,
       "grid_gap": null,
       "grid_row": null,
       "grid_template_areas": null,
       "grid_template_columns": null,
       "grid_template_rows": null,
       "height": null,
       "justify_content": null,
       "justify_items": null,
       "left": null,
       "margin": null,
       "max_height": null,
       "max_width": null,
       "min_height": null,
       "min_width": null,
       "object_fit": null,
       "object_position": null,
       "order": null,
       "overflow": null,
       "padding": null,
       "right": null,
       "top": null,
       "visibility": null,
       "width": "20px"
      }
     },
     "2e40b3f608d3410fa8171cc4a40e580b": {
      "model_module": "@jupyter-widgets/base",
      "model_module_version": "2.0.0",
      "model_name": "LayoutModel",
      "state": {
       "_model_module": "@jupyter-widgets/base",
       "_model_module_version": "2.0.0",
       "_model_name": "LayoutModel",
       "_view_count": null,
       "_view_module": "@jupyter-widgets/base",
       "_view_module_version": "2.0.0",
       "_view_name": "LayoutView",
       "align_content": null,
       "align_items": null,
       "align_self": null,
       "border_bottom": null,
       "border_left": null,
       "border_right": null,
       "border_top": null,
       "bottom": null,
       "display": null,
       "flex": null,
       "flex_flow": null,
       "grid_area": null,
       "grid_auto_columns": null,
       "grid_auto_flow": null,
       "grid_auto_rows": null,
       "grid_column": null,
       "grid_gap": null,
       "grid_row": null,
       "grid_template_areas": null,
       "grid_template_columns": null,
       "grid_template_rows": null,
       "height": null,
       "justify_content": null,
       "justify_items": null,
       "left": null,
       "margin": null,
       "max_height": null,
       "max_width": null,
       "min_height": null,
       "min_width": null,
       "object_fit": null,
       "object_position": null,
       "order": null,
       "overflow": null,
       "padding": null,
       "right": null,
       "top": null,
       "visibility": null,
       "width": null
      }
     },
     "2e648597c8644b23b2e016bcb0209d82": {
      "model_module": "@jupyter-widgets/base",
      "model_module_version": "2.0.0",
      "model_name": "LayoutModel",
      "state": {
       "_model_module": "@jupyter-widgets/base",
       "_model_module_version": "2.0.0",
       "_model_name": "LayoutModel",
       "_view_count": null,
       "_view_module": "@jupyter-widgets/base",
       "_view_module_version": "2.0.0",
       "_view_name": "LayoutView",
       "align_content": null,
       "align_items": null,
       "align_self": null,
       "border_bottom": null,
       "border_left": null,
       "border_right": null,
       "border_top": null,
       "bottom": null,
       "display": null,
       "flex": null,
       "flex_flow": null,
       "grid_area": null,
       "grid_auto_columns": null,
       "grid_auto_flow": null,
       "grid_auto_rows": null,
       "grid_column": null,
       "grid_gap": null,
       "grid_row": null,
       "grid_template_areas": null,
       "grid_template_columns": null,
       "grid_template_rows": null,
       "height": null,
       "justify_content": null,
       "justify_items": null,
       "left": null,
       "margin": null,
       "max_height": null,
       "max_width": null,
       "min_height": null,
       "min_width": null,
       "object_fit": null,
       "object_position": null,
       "order": null,
       "overflow": null,
       "padding": null,
       "right": null,
       "top": null,
       "visibility": null,
       "width": null
      }
     },
     "2ffea24e718e45898586fd377fa87602": {
      "model_module": "@jupyter-widgets/controls",
      "model_module_version": "2.0.0",
      "model_name": "HTMLStyleModel",
      "state": {
       "_model_module": "@jupyter-widgets/controls",
       "_model_module_version": "2.0.0",
       "_model_name": "HTMLStyleModel",
       "_view_count": null,
       "_view_module": "@jupyter-widgets/base",
       "_view_module_version": "2.0.0",
       "_view_name": "StyleView",
       "background": null,
       "description_width": "",
       "font_size": null,
       "text_color": null
      }
     },
     "31f92948678a40a28d0d1e677dbd6479": {
      "model_module": "@jupyter-widgets/controls",
      "model_module_version": "2.0.0",
      "model_name": "HTMLModel",
      "state": {
       "_dom_classes": [],
       "_model_module": "@jupyter-widgets/controls",
       "_model_module_version": "2.0.0",
       "_model_name": "HTMLModel",
       "_view_count": null,
       "_view_module": "@jupyter-widgets/controls",
       "_view_module_version": "2.0.0",
       "_view_name": "HTMLView",
       "description": "",
       "description_allow_html": false,
       "layout": "IPY_MODEL_5b1627f14e36460ebae0750914b1a136",
       "placeholder": "​",
       "style": "IPY_MODEL_77e0a78098cc4c3ba453c6ef7a291ef7",
       "tabbable": null,
       "tooltip": null,
       "value": "Goodreads-Books.csv: 100%"
      }
     },
     "39e302d25b0140099a18f6b8164818b7": {
      "model_module": "@jupyter-widgets/controls",
      "model_module_version": "2.0.0",
      "model_name": "HTMLStyleModel",
      "state": {
       "_model_module": "@jupyter-widgets/controls",
       "_model_module_version": "2.0.0",
       "_model_name": "HTMLStyleModel",
       "_view_count": null,
       "_view_module": "@jupyter-widgets/base",
       "_view_module_version": "2.0.0",
       "_view_name": "StyleView",
       "background": null,
       "description_width": "",
       "font_size": null,
       "text_color": null
      }
     },
     "4727ff5d9df7410fa32b165e40980c01": {
      "model_module": "@jupyter-widgets/base",
      "model_module_version": "2.0.0",
      "model_name": "LayoutModel",
      "state": {
       "_model_module": "@jupyter-widgets/base",
       "_model_module_version": "2.0.0",
       "_model_name": "LayoutModel",
       "_view_count": null,
       "_view_module": "@jupyter-widgets/base",
       "_view_module_version": "2.0.0",
       "_view_name": "LayoutView",
       "align_content": null,
       "align_items": null,
       "align_self": null,
       "border_bottom": null,
       "border_left": null,
       "border_right": null,
       "border_top": null,
       "bottom": null,
       "display": null,
       "flex": null,
       "flex_flow": null,
       "grid_area": null,
       "grid_auto_columns": null,
       "grid_auto_flow": null,
       "grid_auto_rows": null,
       "grid_column": null,
       "grid_gap": null,
       "grid_row": null,
       "grid_template_areas": null,
       "grid_template_columns": null,
       "grid_template_rows": null,
       "height": null,
       "justify_content": null,
       "justify_items": null,
       "left": null,
       "margin": null,
       "max_height": null,
       "max_width": null,
       "min_height": null,
       "min_width": null,
       "object_fit": null,
       "object_position": null,
       "order": null,
       "overflow": null,
       "padding": null,
       "right": null,
       "top": null,
       "visibility": null,
       "width": null
      }
     },
     "49589af941854e5eae90246fbc3574a5": {
      "model_module": "@jupyter-widgets/controls",
      "model_module_version": "2.0.0",
      "model_name": "HTMLModel",
      "state": {
       "_dom_classes": [],
       "_model_module": "@jupyter-widgets/controls",
       "_model_module_version": "2.0.0",
       "_model_name": "HTMLModel",
       "_view_count": null,
       "_view_module": "@jupyter-widgets/controls",
       "_view_module_version": "2.0.0",
       "_view_name": "HTMLView",
       "description": "",
       "description_allow_html": false,
       "layout": "IPY_MODEL_ba2c31fa768a4327b16bca3c58cfe91b",
       "placeholder": "​",
       "style": "IPY_MODEL_b67ac89df33c4ad3a9bc4a4cd02d0913",
       "tabbable": null,
       "tooltip": null,
       "value": "Loading dataset shards: 100%"
      }
     },
     "4bcad6e7dd64436dbdf2bf05044054a5": {
      "model_module": "@jupyter-widgets/base",
      "model_module_version": "2.0.0",
      "model_name": "LayoutModel",
      "state": {
       "_model_module": "@jupyter-widgets/base",
       "_model_module_version": "2.0.0",
       "_model_name": "LayoutModel",
       "_view_count": null,
       "_view_module": "@jupyter-widgets/base",
       "_view_module_version": "2.0.0",
       "_view_name": "LayoutView",
       "align_content": null,
       "align_items": null,
       "align_self": null,
       "border_bottom": null,
       "border_left": null,
       "border_right": null,
       "border_top": null,
       "bottom": null,
       "display": null,
       "flex": null,
       "flex_flow": null,
       "grid_area": null,
       "grid_auto_columns": null,
       "grid_auto_flow": null,
       "grid_auto_rows": null,
       "grid_column": null,
       "grid_gap": null,
       "grid_row": null,
       "grid_template_areas": null,
       "grid_template_columns": null,
       "grid_template_rows": null,
       "height": null,
       "justify_content": null,
       "justify_items": null,
       "left": null,
       "margin": null,
       "max_height": null,
       "max_width": null,
       "min_height": null,
       "min_width": null,
       "object_fit": null,
       "object_position": null,
       "order": null,
       "overflow": null,
       "padding": null,
       "right": null,
       "top": null,
       "visibility": null,
       "width": null
      }
     },
     "5b1627f14e36460ebae0750914b1a136": {
      "model_module": "@jupyter-widgets/base",
      "model_module_version": "2.0.0",
      "model_name": "LayoutModel",
      "state": {
       "_model_module": "@jupyter-widgets/base",
       "_model_module_version": "2.0.0",
       "_model_name": "LayoutModel",
       "_view_count": null,
       "_view_module": "@jupyter-widgets/base",
       "_view_module_version": "2.0.0",
       "_view_name": "LayoutView",
       "align_content": null,
       "align_items": null,
       "align_self": null,
       "border_bottom": null,
       "border_left": null,
       "border_right": null,
       "border_top": null,
       "bottom": null,
       "display": null,
       "flex": null,
       "flex_flow": null,
       "grid_area": null,
       "grid_auto_columns": null,
       "grid_auto_flow": null,
       "grid_auto_rows": null,
       "grid_column": null,
       "grid_gap": null,
       "grid_row": null,
       "grid_template_areas": null,
       "grid_template_columns": null,
       "grid_template_rows": null,
       "height": null,
       "justify_content": null,
       "justify_items": null,
       "left": null,
       "margin": null,
       "max_height": null,
       "max_width": null,
       "min_height": null,
       "min_width": null,
       "object_fit": null,
       "object_position": null,
       "order": null,
       "overflow": null,
       "padding": null,
       "right": null,
       "top": null,
       "visibility": null,
       "width": null
      }
     },
     "5d948ad3bd4e452ebd94beed5d2929f2": {
      "model_module": "@jupyter-widgets/controls",
      "model_module_version": "2.0.0",
      "model_name": "ProgressStyleModel",
      "state": {
       "_model_module": "@jupyter-widgets/controls",
       "_model_module_version": "2.0.0",
       "_model_name": "ProgressStyleModel",
       "_view_count": null,
       "_view_module": "@jupyter-widgets/base",
       "_view_module_version": "2.0.0",
       "_view_name": "StyleView",
       "bar_color": null,
       "description_width": ""
      }
     },
     "6ab36cb3164142c780d4cfa0541eadf7": {
      "model_module": "@jupyter-widgets/controls",
      "model_module_version": "2.0.0",
      "model_name": "ProgressStyleModel",
      "state": {
       "_model_module": "@jupyter-widgets/controls",
       "_model_module_version": "2.0.0",
       "_model_name": "ProgressStyleModel",
       "_view_count": null,
       "_view_module": "@jupyter-widgets/base",
       "_view_module_version": "2.0.0",
       "_view_name": "StyleView",
       "bar_color": null,
       "description_width": ""
      }
     },
     "6c6499984ec94da4a807223af6fd885a": {
      "model_module": "@jupyter-widgets/controls",
      "model_module_version": "2.0.0",
      "model_name": "HTMLStyleModel",
      "state": {
       "_model_module": "@jupyter-widgets/controls",
       "_model_module_version": "2.0.0",
       "_model_name": "HTMLStyleModel",
       "_view_count": null,
       "_view_module": "@jupyter-widgets/base",
       "_view_module_version": "2.0.0",
       "_view_name": "StyleView",
       "background": null,
       "description_width": "",
       "font_size": null,
       "text_color": null
      }
     },
     "6db2d4adf7e14c18ab70d93b34c332a2": {
      "model_module": "@jupyter-widgets/controls",
      "model_module_version": "2.0.0",
      "model_name": "FloatProgressModel",
      "state": {
       "_dom_classes": [],
       "_model_module": "@jupyter-widgets/controls",
       "_model_module_version": "2.0.0",
       "_model_name": "FloatProgressModel",
       "_view_count": null,
       "_view_module": "@jupyter-widgets/controls",
       "_view_module_version": "2.0.0",
       "_view_name": "ProgressView",
       "bar_style": "success",
       "description": "",
       "description_allow_html": false,
       "layout": "IPY_MODEL_b8f0944ac95345faa27988a021fc4d5f",
       "max": 1.0,
       "min": 0.0,
       "orientation": "horizontal",
       "style": "IPY_MODEL_c3ddfdf44dc949bb89d454133255c40d",
       "tabbable": null,
       "tooltip": null,
       "value": 1.0
      }
     },
     "76fe04c9024342ed91cd3da1760081c3": {
      "model_module": "@jupyter-widgets/controls",
      "model_module_version": "2.0.0",
      "model_name": "ProgressStyleModel",
      "state": {
       "_model_module": "@jupyter-widgets/controls",
       "_model_module_version": "2.0.0",
       "_model_name": "ProgressStyleModel",
       "_view_count": null,
       "_view_module": "@jupyter-widgets/base",
       "_view_module_version": "2.0.0",
       "_view_name": "StyleView",
       "bar_color": null,
       "description_width": ""
      }
     },
     "77e0a78098cc4c3ba453c6ef7a291ef7": {
      "model_module": "@jupyter-widgets/controls",
      "model_module_version": "2.0.0",
      "model_name": "HTMLStyleModel",
      "state": {
       "_model_module": "@jupyter-widgets/controls",
       "_model_module_version": "2.0.0",
       "_model_name": "HTMLStyleModel",
       "_view_count": null,
       "_view_module": "@jupyter-widgets/base",
       "_view_module_version": "2.0.0",
       "_view_name": "StyleView",
       "background": null,
       "description_width": "",
       "font_size": null,
       "text_color": null
      }
     },
     "7e25121a01cd4a379d15e6b84a645060": {
      "model_module": "@jupyter-widgets/controls",
      "model_module_version": "2.0.0",
      "model_name": "FloatProgressModel",
      "state": {
       "_dom_classes": [],
       "_model_module": "@jupyter-widgets/controls",
       "_model_module_version": "2.0.0",
       "_model_name": "FloatProgressModel",
       "_view_count": null,
       "_view_module": "@jupyter-widgets/controls",
       "_view_module_version": "2.0.0",
       "_view_name": "ProgressView",
       "bar_style": "success",
       "description": "",
       "description_allow_html": false,
       "layout": "IPY_MODEL_9a3a90a26cf24ee6a3709ca4d36878b7",
       "max": 8294652808.0,
       "min": 0.0,
       "orientation": "horizontal",
       "style": "IPY_MODEL_6ab36cb3164142c780d4cfa0541eadf7",
       "tabbable": null,
       "tooltip": null,
       "value": 8294652808.0
      }
     },
     "7e4f2368d7fc47849088bb47339089bf": {
      "model_module": "@jupyter-widgets/controls",
      "model_module_version": "2.0.0",
      "model_name": "HTMLModel",
      "state": {
       "_dom_classes": [],
       "_model_module": "@jupyter-widgets/controls",
       "_model_module_version": "2.0.0",
       "_model_name": "HTMLModel",
       "_view_count": null,
       "_view_module": "@jupyter-widgets/controls",
       "_view_module_version": "2.0.0",
       "_view_name": "HTMLView",
       "description": "",
       "description_allow_html": false,
       "layout": "IPY_MODEL_1fa65ba6aaa14e0b8637ee1cf6901779",
       "placeholder": "​",
       "style": "IPY_MODEL_8588bfe6f46547cdbe8422841c20a086",
       "tabbable": null,
       "tooltip": null,
       "value": " 6389859/0 [03:30&lt;00:00, 33171.37 examples/s]"
      }
     },
     "8111f3d5d82e4bddb828d1d29160d975": {
      "model_module": "@jupyter-widgets/controls",
      "model_module_version": "2.0.0",
      "model_name": "HTMLModel",
      "state": {
       "_dom_classes": [],
       "_model_module": "@jupyter-widgets/controls",
       "_model_module_version": "2.0.0",
       "_model_name": "HTMLModel",
       "_view_count": null,
       "_view_module": "@jupyter-widgets/controls",
       "_view_module_version": "2.0.0",
       "_view_name": "HTMLView",
       "description": "",
       "description_allow_html": false,
       "layout": "IPY_MODEL_941e4e66b699447eb621d4798a29d8c9",
       "placeholder": "​",
       "style": "IPY_MODEL_6c6499984ec94da4a807223af6fd885a",
       "tabbable": null,
       "tooltip": null,
       "value": " 8.23k/? [00:00&lt;00:00, 507kB/s]"
      }
     },
     "8588bfe6f46547cdbe8422841c20a086": {
      "model_module": "@jupyter-widgets/controls",
      "model_module_version": "2.0.0",
      "model_name": "HTMLStyleModel",
      "state": {
       "_model_module": "@jupyter-widgets/controls",
       "_model_module_version": "2.0.0",
       "_model_name": "HTMLStyleModel",
       "_view_count": null,
       "_view_module": "@jupyter-widgets/base",
       "_view_module_version": "2.0.0",
       "_view_name": "StyleView",
       "background": null,
       "description_width": "",
       "font_size": null,
       "text_color": null
      }
     },
     "8cc096ed8df946c693a216967bb2cf82": {
      "model_module": "@jupyter-widgets/controls",
      "model_module_version": "2.0.0",
      "model_name": "HTMLModel",
      "state": {
       "_dom_classes": [],
       "_model_module": "@jupyter-widgets/controls",
       "_model_module_version": "2.0.0",
       "_model_name": "HTMLModel",
       "_view_count": null,
       "_view_module": "@jupyter-widgets/controls",
       "_view_module_version": "2.0.0",
       "_view_name": "HTMLView",
       "description": "",
       "description_allow_html": false,
       "layout": "IPY_MODEL_2e648597c8644b23b2e016bcb0209d82",
       "placeholder": "​",
       "style": "IPY_MODEL_2ffea24e718e45898586fd377fa87602",
       "tabbable": null,
       "tooltip": null,
       "value": " 8.29G/8.29G [00:56&lt;00:00, 116MB/s]"
      }
     },
     "8fa8d6e2237f40ea9bd2454071a18e5a": {
      "model_module": "@jupyter-widgets/controls",
      "model_module_version": "2.0.0",
      "model_name": "HBoxModel",
      "state": {
       "_dom_classes": [],
       "_model_module": "@jupyter-widgets/controls",
       "_model_module_version": "2.0.0",
       "_model_name": "HBoxModel",
       "_view_count": null,
       "_view_module": "@jupyter-widgets/controls",
       "_view_module_version": "2.0.0",
       "_view_name": "HBoxView",
       "box_style": "",
       "children": [
        "IPY_MODEL_49589af941854e5eae90246fbc3574a5",
        "IPY_MODEL_003a4d9fa90d47b2a81ff08dcbece4e7",
        "IPY_MODEL_a374741f78f6458b9afad1b4b87b9969"
       ],
       "layout": "IPY_MODEL_2e40b3f608d3410fa8171cc4a40e580b",
       "tabbable": null,
       "tooltip": null
      }
     },
     "9232f86c78224bf9874c125740efc360": {
      "model_module": "@jupyter-widgets/controls",
      "model_module_version": "2.0.0",
      "model_name": "FloatProgressModel",
      "state": {
       "_dom_classes": [],
       "_model_module": "@jupyter-widgets/controls",
       "_model_module_version": "2.0.0",
       "_model_name": "FloatProgressModel",
       "_view_count": null,
       "_view_module": "@jupyter-widgets/controls",
       "_view_module_version": "2.0.0",
       "_view_name": "ProgressView",
       "bar_style": "success",
       "description": "",
       "description_allow_html": false,
       "layout": "IPY_MODEL_25c9e99c6ac6429d823772c51b71278c",
       "max": 1.0,
       "min": 0.0,
       "orientation": "horizontal",
       "style": "IPY_MODEL_76fe04c9024342ed91cd3da1760081c3",
       "tabbable": null,
       "tooltip": null,
       "value": 1.0
      }
     },
     "941e4e66b699447eb621d4798a29d8c9": {
      "model_module": "@jupyter-widgets/base",
      "model_module_version": "2.0.0",
      "model_name": "LayoutModel",
      "state": {
       "_model_module": "@jupyter-widgets/base",
       "_model_module_version": "2.0.0",
       "_model_name": "LayoutModel",
       "_view_count": null,
       "_view_module": "@jupyter-widgets/base",
       "_view_module_version": "2.0.0",
       "_view_name": "LayoutView",
       "align_content": null,
       "align_items": null,
       "align_self": null,
       "border_bottom": null,
       "border_left": null,
       "border_right": null,
       "border_top": null,
       "bottom": null,
       "display": null,
       "flex": null,
       "flex_flow": null,
       "grid_area": null,
       "grid_auto_columns": null,
       "grid_auto_flow": null,
       "grid_auto_rows": null,
       "grid_column": null,
       "grid_gap": null,
       "grid_row": null,
       "grid_template_areas": null,
       "grid_template_columns": null,
       "grid_template_rows": null,
       "height": null,
       "justify_content": null,
       "justify_items": null,
       "left": null,
       "margin": null,
       "max_height": null,
       "max_width": null,
       "min_height": null,
       "min_width": null,
       "object_fit": null,
       "object_position": null,
       "order": null,
       "overflow": null,
       "padding": null,
       "right": null,
       "top": null,
       "visibility": null,
       "width": null
      }
     },
     "9a3a90a26cf24ee6a3709ca4d36878b7": {
      "model_module": "@jupyter-widgets/base",
      "model_module_version": "2.0.0",
      "model_name": "LayoutModel",
      "state": {
       "_model_module": "@jupyter-widgets/base",
       "_model_module_version": "2.0.0",
       "_model_name": "LayoutModel",
       "_view_count": null,
       "_view_module": "@jupyter-widgets/base",
       "_view_module_version": "2.0.0",
       "_view_name": "LayoutView",
       "align_content": null,
       "align_items": null,
       "align_self": null,
       "border_bottom": null,
       "border_left": null,
       "border_right": null,
       "border_top": null,
       "bottom": null,
       "display": null,
       "flex": null,
       "flex_flow": null,
       "grid_area": null,
       "grid_auto_columns": null,
       "grid_auto_flow": null,
       "grid_auto_rows": null,
       "grid_column": null,
       "grid_gap": null,
       "grid_row": null,
       "grid_template_areas": null,
       "grid_template_columns": null,
       "grid_template_rows": null,
       "height": null,
       "justify_content": null,
       "justify_items": null,
       "left": null,
       "margin": null,
       "max_height": null,
       "max_width": null,
       "min_height": null,
       "min_width": null,
       "object_fit": null,
       "object_position": null,
       "order": null,
       "overflow": null,
       "padding": null,
       "right": null,
       "top": null,
       "visibility": null,
       "width": null
      }
     },
     "9ca8e02d2cbb48db8755947c0b213b1d": {
      "model_module": "@jupyter-widgets/controls",
      "model_module_version": "2.0.0",
      "model_name": "HTMLModel",
      "state": {
       "_dom_classes": [],
       "_model_module": "@jupyter-widgets/controls",
       "_model_module_version": "2.0.0",
       "_model_name": "HTMLModel",
       "_view_count": null,
       "_view_module": "@jupyter-widgets/controls",
       "_view_module_version": "2.0.0",
       "_view_name": "HTMLView",
       "description": "",
       "description_allow_html": false,
       "layout": "IPY_MODEL_4727ff5d9df7410fa32b165e40980c01",
       "placeholder": "​",
       "style": "IPY_MODEL_0625f911ebe14cf28af226de4fd368a3",
       "tabbable": null,
       "tooltip": null,
       "value": "Generating train split: "
      }
     },
     "a06fe0c193ac4180b7a0344e69b98377": {
      "model_module": "@jupyter-widgets/base",
      "model_module_version": "2.0.0",
      "model_name": "LayoutModel",
      "state": {
       "_model_module": "@jupyter-widgets/base",
       "_model_module_version": "2.0.0",
       "_model_name": "LayoutModel",
       "_view_count": null,
       "_view_module": "@jupyter-widgets/base",
       "_view_module_version": "2.0.0",
       "_view_name": "LayoutView",
       "align_content": null,
       "align_items": null,
       "align_self": null,
       "border_bottom": null,
       "border_left": null,
       "border_right": null,
       "border_top": null,
       "bottom": null,
       "display": null,
       "flex": null,
       "flex_flow": null,
       "grid_area": null,
       "grid_auto_columns": null,
       "grid_auto_flow": null,
       "grid_auto_rows": null,
       "grid_column": null,
       "grid_gap": null,
       "grid_row": null,
       "grid_template_areas": null,
       "grid_template_columns": null,
       "grid_template_rows": null,
       "height": null,
       "justify_content": null,
       "justify_items": null,
       "left": null,
       "margin": null,
       "max_height": null,
       "max_width": null,
       "min_height": null,
       "min_width": null,
       "object_fit": null,
       "object_position": null,
       "order": null,
       "overflow": null,
       "padding": null,
       "right": null,
       "top": null,
       "visibility": null,
       "width": null
      }
     },
     "a1298faa9ecb411c9f2022c5edc0b961": {
      "model_module": "@jupyter-widgets/controls",
      "model_module_version": "2.0.0",
      "model_name": "HTMLStyleModel",
      "state": {
       "_model_module": "@jupyter-widgets/controls",
       "_model_module_version": "2.0.0",
       "_model_name": "HTMLStyleModel",
       "_view_count": null,
       "_view_module": "@jupyter-widgets/base",
       "_view_module_version": "2.0.0",
       "_view_name": "StyleView",
       "background": null,
       "description_width": "",
       "font_size": null,
       "text_color": null
      }
     },
     "a374741f78f6458b9afad1b4b87b9969": {
      "model_module": "@jupyter-widgets/controls",
      "model_module_version": "2.0.0",
      "model_name": "HTMLModel",
      "state": {
       "_dom_classes": [],
       "_model_module": "@jupyter-widgets/controls",
       "_model_module_version": "2.0.0",
       "_model_name": "HTMLModel",
       "_view_count": null,
       "_view_module": "@jupyter-widgets/controls",
       "_view_module_version": "2.0.0",
       "_view_name": "HTMLView",
       "description": "",
       "description_allow_html": false,
       "layout": "IPY_MODEL_b694e68b115e42458839d9180157adef",
       "placeholder": "​",
       "style": "IPY_MODEL_39e302d25b0140099a18f6b8164818b7",
       "tabbable": null,
       "tooltip": null,
       "value": " 17/17 [00:00&lt;00:00,  3.32it/s]"
      }
     },
     "a9a4afabcb3849ea8951fabbe441a5b1": {
      "model_module": "@jupyter-widgets/controls",
      "model_module_version": "2.0.0",
      "model_name": "HTMLModel",
      "state": {
       "_dom_classes": [],
       "_model_module": "@jupyter-widgets/controls",
       "_model_module_version": "2.0.0",
       "_model_name": "HTMLModel",
       "_view_count": null,
       "_view_module": "@jupyter-widgets/controls",
       "_view_module_version": "2.0.0",
       "_view_name": "HTMLView",
       "description": "",
       "description_allow_html": false,
       "layout": "IPY_MODEL_df4226e37e0041748c5292b1d938511e",
       "placeholder": "​",
       "style": "IPY_MODEL_a1298faa9ecb411c9f2022c5edc0b961",
       "tabbable": null,
       "tooltip": null,
       "value": "README.md: "
      }
     },
     "aa61ef6a22b2422f9cb69e19ab75bce4": {
      "model_module": "@jupyter-widgets/controls",
      "model_module_version": "2.0.0",
      "model_name": "HTMLModel",
      "state": {
       "_dom_classes": [],
       "_model_module": "@jupyter-widgets/controls",
       "_model_module_version": "2.0.0",
       "_model_name": "HTMLModel",
       "_view_count": null,
       "_view_module": "@jupyter-widgets/controls",
       "_view_module_version": "2.0.0",
       "_view_name": "HTMLView",
       "description": "",
       "description_allow_html": false,
       "layout": "IPY_MODEL_1cc44878ca7f4178adc53835ddae325a",
       "placeholder": "​",
       "style": "IPY_MODEL_ad614a5a1c85467eb8f8d5226af7fd5d",
       "tabbable": null,
       "tooltip": null,
       "value": " 1/1 [00:00&lt;00:00, 16.51it/s]"
      }
     },
     "ad614a5a1c85467eb8f8d5226af7fd5d": {
      "model_module": "@jupyter-widgets/controls",
      "model_module_version": "2.0.0",
      "model_name": "HTMLStyleModel",
      "state": {
       "_model_module": "@jupyter-widgets/controls",
       "_model_module_version": "2.0.0",
       "_model_name": "HTMLStyleModel",
       "_view_count": null,
       "_view_module": "@jupyter-widgets/base",
       "_view_module_version": "2.0.0",
       "_view_name": "StyleView",
       "background": null,
       "description_width": "",
       "font_size": null,
       "text_color": null
      }
     },
     "b67ac89df33c4ad3a9bc4a4cd02d0913": {
      "model_module": "@jupyter-widgets/controls",
      "model_module_version": "2.0.0",
      "model_name": "HTMLStyleModel",
      "state": {
       "_model_module": "@jupyter-widgets/controls",
       "_model_module_version": "2.0.0",
       "_model_name": "HTMLStyleModel",
       "_view_count": null,
       "_view_module": "@jupyter-widgets/base",
       "_view_module_version": "2.0.0",
       "_view_name": "StyleView",
       "background": null,
       "description_width": "",
       "font_size": null,
       "text_color": null
      }
     },
     "b694e68b115e42458839d9180157adef": {
      "model_module": "@jupyter-widgets/base",
      "model_module_version": "2.0.0",
      "model_name": "LayoutModel",
      "state": {
       "_model_module": "@jupyter-widgets/base",
       "_model_module_version": "2.0.0",
       "_model_name": "LayoutModel",
       "_view_count": null,
       "_view_module": "@jupyter-widgets/base",
       "_view_module_version": "2.0.0",
       "_view_name": "LayoutView",
       "align_content": null,
       "align_items": null,
       "align_self": null,
       "border_bottom": null,
       "border_left": null,
       "border_right": null,
       "border_top": null,
       "bottom": null,
       "display": null,
       "flex": null,
       "flex_flow": null,
       "grid_area": null,
       "grid_auto_columns": null,
       "grid_auto_flow": null,
       "grid_auto_rows": null,
       "grid_column": null,
       "grid_gap": null,
       "grid_row": null,
       "grid_template_areas": null,
       "grid_template_columns": null,
       "grid_template_rows": null,
       "height": null,
       "justify_content": null,
       "justify_items": null,
       "left": null,
       "margin": null,
       "max_height": null,
       "max_width": null,
       "min_height": null,
       "min_width": null,
       "object_fit": null,
       "object_position": null,
       "order": null,
       "overflow": null,
       "padding": null,
       "right": null,
       "top": null,
       "visibility": null,
       "width": null
      }
     },
     "b893dadc920b4d979b9520a7093153fa": {
      "model_module": "@jupyter-widgets/controls",
      "model_module_version": "2.0.0",
      "model_name": "HBoxModel",
      "state": {
       "_dom_classes": [],
       "_model_module": "@jupyter-widgets/controls",
       "_model_module_version": "2.0.0",
       "_model_name": "HBoxModel",
       "_view_count": null,
       "_view_module": "@jupyter-widgets/controls",
       "_view_module_version": "2.0.0",
       "_view_name": "HBoxView",
       "box_style": "",
       "children": [
        "IPY_MODEL_9ca8e02d2cbb48db8755947c0b213b1d",
        "IPY_MODEL_9232f86c78224bf9874c125740efc360",
        "IPY_MODEL_7e4f2368d7fc47849088bb47339089bf"
       ],
       "layout": "IPY_MODEL_1ced4762743a408badeaece6c341c2c1",
       "tabbable": null,
       "tooltip": null
      }
     },
     "b8f0944ac95345faa27988a021fc4d5f": {
      "model_module": "@jupyter-widgets/base",
      "model_module_version": "2.0.0",
      "model_name": "LayoutModel",
      "state": {
       "_model_module": "@jupyter-widgets/base",
       "_model_module_version": "2.0.0",
       "_model_name": "LayoutModel",
       "_view_count": null,
       "_view_module": "@jupyter-widgets/base",
       "_view_module_version": "2.0.0",
       "_view_name": "LayoutView",
       "align_content": null,
       "align_items": null,
       "align_self": null,
       "border_bottom": null,
       "border_left": null,
       "border_right": null,
       "border_top": null,
       "bottom": null,
       "display": null,
       "flex": null,
       "flex_flow": null,
       "grid_area": null,
       "grid_auto_columns": null,
       "grid_auto_flow": null,
       "grid_auto_rows": null,
       "grid_column": null,
       "grid_gap": null,
       "grid_row": null,
       "grid_template_areas": null,
       "grid_template_columns": null,
       "grid_template_rows": null,
       "height": null,
       "justify_content": null,
       "justify_items": null,
       "left": null,
       "margin": null,
       "max_height": null,
       "max_width": null,
       "min_height": null,
       "min_width": null,
       "object_fit": null,
       "object_position": null,
       "order": null,
       "overflow": null,
       "padding": null,
       "right": null,
       "top": null,
       "visibility": null,
       "width": "20px"
      }
     },
     "ba2c31fa768a4327b16bca3c58cfe91b": {
      "model_module": "@jupyter-widgets/base",
      "model_module_version": "2.0.0",
      "model_name": "LayoutModel",
      "state": {
       "_model_module": "@jupyter-widgets/base",
       "_model_module_version": "2.0.0",
       "_model_name": "LayoutModel",
       "_view_count": null,
       "_view_module": "@jupyter-widgets/base",
       "_view_module_version": "2.0.0",
       "_view_name": "LayoutView",
       "align_content": null,
       "align_items": null,
       "align_self": null,
       "border_bottom": null,
       "border_left": null,
       "border_right": null,
       "border_top": null,
       "bottom": null,
       "display": null,
       "flex": null,
       "flex_flow": null,
       "grid_area": null,
       "grid_auto_columns": null,
       "grid_auto_flow": null,
       "grid_auto_rows": null,
       "grid_column": null,
       "grid_gap": null,
       "grid_row": null,
       "grid_template_areas": null,
       "grid_template_columns": null,
       "grid_template_rows": null,
       "height": null,
       "justify_content": null,
       "justify_items": null,
       "left": null,
       "margin": null,
       "max_height": null,
       "max_width": null,
       "min_height": null,
       "min_width": null,
       "object_fit": null,
       "object_position": null,
       "order": null,
       "overflow": null,
       "padding": null,
       "right": null,
       "top": null,
       "visibility": null,
       "width": null
      }
     },
     "c33eb8755a6e4a0c9d73b956f16da21e": {
      "model_module": "@jupyter-widgets/controls",
      "model_module_version": "2.0.0",
      "model_name": "HBoxModel",
      "state": {
       "_dom_classes": [],
       "_model_module": "@jupyter-widgets/controls",
       "_model_module_version": "2.0.0",
       "_model_name": "HBoxModel",
       "_view_count": null,
       "_view_module": "@jupyter-widgets/controls",
       "_view_module_version": "2.0.0",
       "_view_name": "HBoxView",
       "box_style": "",
       "children": [
        "IPY_MODEL_a9a4afabcb3849ea8951fabbe441a5b1",
        "IPY_MODEL_6db2d4adf7e14c18ab70d93b34c332a2",
        "IPY_MODEL_8111f3d5d82e4bddb828d1d29160d975"
       ],
       "layout": "IPY_MODEL_d80ef7ff2b434b7285f810786598f328",
       "tabbable": null,
       "tooltip": null
      }
     },
     "c3ddfdf44dc949bb89d454133255c40d": {
      "model_module": "@jupyter-widgets/controls",
      "model_module_version": "2.0.0",
      "model_name": "ProgressStyleModel",
      "state": {
       "_model_module": "@jupyter-widgets/controls",
       "_model_module_version": "2.0.0",
       "_model_name": "ProgressStyleModel",
       "_view_count": null,
       "_view_module": "@jupyter-widgets/base",
       "_view_module_version": "2.0.0",
       "_view_name": "StyleView",
       "bar_color": null,
       "description_width": ""
      }
     },
     "c8fce7af6bfb49d5850611567c6cf88e": {
      "model_module": "@jupyter-widgets/controls",
      "model_module_version": "2.0.0",
      "model_name": "FloatProgressModel",
      "state": {
       "_dom_classes": [],
       "_model_module": "@jupyter-widgets/controls",
       "_model_module_version": "2.0.0",
       "_model_name": "FloatProgressModel",
       "_view_count": null,
       "_view_module": "@jupyter-widgets/controls",
       "_view_module_version": "2.0.0",
       "_view_name": "ProgressView",
       "bar_style": "success",
       "description": "",
       "description_allow_html": false,
       "layout": "IPY_MODEL_d883c8885b5f4ffc93f967f47f2fcae4",
       "max": 1.0,
       "min": 0.0,
       "orientation": "horizontal",
       "style": "IPY_MODEL_16794043113f42df9734b5cc6fb89774",
       "tabbable": null,
       "tooltip": null,
       "value": 1.0
      }
     },
     "d80ef7ff2b434b7285f810786598f328": {
      "model_module": "@jupyter-widgets/base",
      "model_module_version": "2.0.0",
      "model_name": "LayoutModel",
      "state": {
       "_model_module": "@jupyter-widgets/base",
       "_model_module_version": "2.0.0",
       "_model_name": "LayoutModel",
       "_view_count": null,
       "_view_module": "@jupyter-widgets/base",
       "_view_module_version": "2.0.0",
       "_view_name": "LayoutView",
       "align_content": null,
       "align_items": null,
       "align_self": null,
       "border_bottom": null,
       "border_left": null,
       "border_right": null,
       "border_top": null,
       "bottom": null,
       "display": null,
       "flex": null,
       "flex_flow": null,
       "grid_area": null,
       "grid_auto_columns": null,
       "grid_auto_flow": null,
       "grid_auto_rows": null,
       "grid_column": null,
       "grid_gap": null,
       "grid_row": null,
       "grid_template_areas": null,
       "grid_template_columns": null,
       "grid_template_rows": null,
       "height": null,
       "justify_content": null,
       "justify_items": null,
       "left": null,
       "margin": null,
       "max_height": null,
       "max_width": null,
       "min_height": null,
       "min_width": null,
       "object_fit": null,
       "object_position": null,
       "order": null,
       "overflow": null,
       "padding": null,
       "right": null,
       "top": null,
       "visibility": null,
       "width": null
      }
     },
     "d883c8885b5f4ffc93f967f47f2fcae4": {
      "model_module": "@jupyter-widgets/base",
      "model_module_version": "2.0.0",
      "model_name": "LayoutModel",
      "state": {
       "_model_module": "@jupyter-widgets/base",
       "_model_module_version": "2.0.0",
       "_model_name": "LayoutModel",
       "_view_count": null,
       "_view_module": "@jupyter-widgets/base",
       "_view_module_version": "2.0.0",
       "_view_name": "LayoutView",
       "align_content": null,
       "align_items": null,
       "align_self": null,
       "border_bottom": null,
       "border_left": null,
       "border_right": null,
       "border_top": null,
       "bottom": null,
       "display": null,
       "flex": null,
       "flex_flow": null,
       "grid_area": null,
       "grid_auto_columns": null,
       "grid_auto_flow": null,
       "grid_auto_rows": null,
       "grid_column": null,
       "grid_gap": null,
       "grid_row": null,
       "grid_template_areas": null,
       "grid_template_columns": null,
       "grid_template_rows": null,
       "height": null,
       "justify_content": null,
       "justify_items": null,
       "left": null,
       "margin": null,
       "max_height": null,
       "max_width": null,
       "min_height": null,
       "min_width": null,
       "object_fit": null,
       "object_position": null,
       "order": null,
       "overflow": null,
       "padding": null,
       "right": null,
       "top": null,
       "visibility": null,
       "width": null
      }
     },
     "df4226e37e0041748c5292b1d938511e": {
      "model_module": "@jupyter-widgets/base",
      "model_module_version": "2.0.0",
      "model_name": "LayoutModel",
      "state": {
       "_model_module": "@jupyter-widgets/base",
       "_model_module_version": "2.0.0",
       "_model_name": "LayoutModel",
       "_view_count": null,
       "_view_module": "@jupyter-widgets/base",
       "_view_module_version": "2.0.0",
       "_view_name": "LayoutView",
       "align_content": null,
       "align_items": null,
       "align_self": null,
       "border_bottom": null,
       "border_left": null,
       "border_right": null,
       "border_top": null,
       "bottom": null,
       "display": null,
       "flex": null,
       "flex_flow": null,
       "grid_area": null,
       "grid_auto_columns": null,
       "grid_auto_flow": null,
       "grid_auto_rows": null,
       "grid_column": null,
       "grid_gap": null,
       "grid_row": null,
       "grid_template_areas": null,
       "grid_template_columns": null,
       "grid_template_rows": null,
       "height": null,
       "justify_content": null,
       "justify_items": null,
       "left": null,
       "margin": null,
       "max_height": null,
       "max_width": null,
       "min_height": null,
       "min_width": null,
       "object_fit": null,
       "object_position": null,
       "order": null,
       "overflow": null,
       "padding": null,
       "right": null,
       "top": null,
       "visibility": null,
       "width": null
      }
     },
     "e9f8589cad174389ac5a2a915e58a616": {
      "model_module": "@jupyter-widgets/controls",
      "model_module_version": "2.0.0",
      "model_name": "HTMLModel",
      "state": {
       "_dom_classes": [],
       "_model_module": "@jupyter-widgets/controls",
       "_model_module_version": "2.0.0",
       "_model_name": "HTMLModel",
       "_view_count": null,
       "_view_module": "@jupyter-widgets/controls",
       "_view_module_version": "2.0.0",
       "_view_name": "HTMLView",
       "description": "",
       "description_allow_html": false,
       "layout": "IPY_MODEL_4bcad6e7dd64436dbdf2bf05044054a5",
       "placeholder": "​",
       "style": "IPY_MODEL_f94f96798d9d4bd68594740e682476b0",
       "tabbable": null,
       "tooltip": null,
       "value": "Computing checksums: 100%"
      }
     },
     "f94f96798d9d4bd68594740e682476b0": {
      "model_module": "@jupyter-widgets/controls",
      "model_module_version": "2.0.0",
      "model_name": "HTMLStyleModel",
      "state": {
       "_model_module": "@jupyter-widgets/controls",
       "_model_module_version": "2.0.0",
       "_model_name": "HTMLStyleModel",
       "_view_count": null,
       "_view_module": "@jupyter-widgets/base",
       "_view_module_version": "2.0.0",
       "_view_name": "StyleView",
       "background": null,
       "description_width": "",
       "font_size": null,
       "text_color": null
      }
     },
     "fbf6c41355e949bd9161c4e7f677e237": {
      "model_module": "@jupyter-widgets/base",
      "model_module_version": "2.0.0",
      "model_name": "LayoutModel",
      "state": {
       "_model_module": "@jupyter-widgets/base",
       "_model_module_version": "2.0.0",
       "_model_name": "LayoutModel",
       "_view_count": null,
       "_view_module": "@jupyter-widgets/base",
       "_view_module_version": "2.0.0",
       "_view_name": "LayoutView",
       "align_content": null,
       "align_items": null,
       "align_self": null,
       "border_bottom": null,
       "border_left": null,
       "border_right": null,
       "border_top": null,
       "bottom": null,
       "display": null,
       "flex": null,
       "flex_flow": null,
       "grid_area": null,
       "grid_auto_columns": null,
       "grid_auto_flow": null,
       "grid_auto_rows": null,
       "grid_column": null,
       "grid_gap": null,
       "grid_row": null,
       "grid_template_areas": null,
       "grid_template_columns": null,
       "grid_template_rows": null,
       "height": null,
       "justify_content": null,
       "justify_items": null,
       "left": null,
       "margin": null,
       "max_height": null,
       "max_width": null,
       "min_height": null,
       "min_width": null,
       "object_fit": null,
       "object_position": null,
       "order": null,
       "overflow": null,
       "padding": null,
       "right": null,
       "top": null,
       "visibility": null,
       "width": null
      }
     },
     "ff13b04b266946cca6b814e1cb996d43": {
      "model_module": "@jupyter-widgets/controls",
      "model_module_version": "2.0.0",
      "model_name": "HBoxModel",
      "state": {
       "_dom_classes": [],
       "_model_module": "@jupyter-widgets/controls",
       "_model_module_version": "2.0.0",
       "_model_name": "HBoxModel",
       "_view_count": null,
       "_view_module": "@jupyter-widgets/controls",
       "_view_module_version": "2.0.0",
       "_view_name": "HBoxView",
       "box_style": "",
       "children": [
        "IPY_MODEL_e9f8589cad174389ac5a2a915e58a616",
        "IPY_MODEL_c8fce7af6bfb49d5850611567c6cf88e",
        "IPY_MODEL_aa61ef6a22b2422f9cb69e19ab75bce4"
       ],
       "layout": "IPY_MODEL_fbf6c41355e949bd9161c4e7f677e237",
       "tabbable": null,
       "tooltip": null
      }
     }
    },
    "version_major": 2,
    "version_minor": 0
   }
  }
 },
 "nbformat": 4,
 "nbformat_minor": 5
}
